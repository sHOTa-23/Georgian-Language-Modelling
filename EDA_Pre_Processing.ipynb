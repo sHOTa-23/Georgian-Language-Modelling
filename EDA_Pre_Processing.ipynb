{
  "nbformat": 4,
  "nbformat_minor": 0,
  "metadata": {
    "colab": {
      "name": "eda-1.ipynb",
      "provenance": [],
      "collapsed_sections": []
    },
    "kernelspec": {
      "name": "python3",
      "display_name": "Python 3"
    },
    "language_info": {
      "name": "python"
    }
  },
  "cells": [
    {
      "cell_type": "code",
      "execution_count": 4,
      "metadata": {
        "id": "UG7FqHmX-oYV"
      },
      "outputs": [],
      "source": [
        "# !pip install transformers\n",
        "# !pip install datasets\n",
        "# !pip install nltk"
      ]
    },
    {
      "cell_type": "code",
      "source": [
        "import nltk\n",
        "# nltk.download('punkt')\n",
        "from google.colab import drive\n",
        "import matplotlib.pyplot as plt\n",
        "from collections import Counter\n",
        "import seaborn as sns\n",
        "import pandas as pd\n",
        "import numpy as np\n",
        "import itertools\n",
        "import re\n",
        "drive.mount('/content/drive')"
      ],
      "metadata": {
        "colab": {
          "base_uri": "https://localhost:8080/"
        },
        "id": "LRsm9TeVGw8e",
        "outputId": "d5bb6800-b9c7-4ad2-e2e7-cfbfb5a6b0d3"
      },
      "execution_count": 1,
      "outputs": [
        {
          "output_type": "stream",
          "name": "stdout",
          "text": [
            "Drive already mounted at /content/drive; to attempt to forcibly remount, call drive.mount(\"/content/drive\", force_remount=True).\n"
          ]
        }
      ]
    },
    {
      "cell_type": "code",
      "source": [
        "from datasets import get_dataset_config_names\n",
        "from datasets import load_dataset"
      ],
      "metadata": {
        "id": "KX9tZ4F2-tF4"
      },
      "execution_count": 2,
      "outputs": []
    },
    {
      "cell_type": "code",
      "source": [
        "georgian_oscar = load_dataset(\"oscar\", \"unshuffled_original_ka\", split=\"train\")"
      ],
      "metadata": {
        "id": "sWlG6DtD_IQz"
      },
      "execution_count": 3,
      "outputs": []
    },
    {
      "cell_type": "code",
      "source": [
        "text = georgian_oscar['text']"
      ],
      "metadata": {
        "id": "8PqWrW10AgZU"
      },
      "execution_count": null,
      "outputs": []
    },
    {
      "cell_type": "code",
      "source": [
        "len(text)"
      ],
      "metadata": {
        "id": "SpHqdaVeA85u",
        "outputId": "97d4570d-52e6-4888-c5c9-cf8be5ddb6ed",
        "colab": {
          "base_uri": "https://localhost:8080/"
        }
      },
      "execution_count": null,
      "outputs": [
        {
          "output_type": "execute_result",
          "data": {
            "text/plain": [
              "563916"
            ]
          },
          "metadata": {},
          "execution_count": 6
        }
      ]
    },
    {
      "cell_type": "code",
      "source": [
        "text[563712]"
      ],
      "metadata": {
        "colab": {
          "base_uri": "https://localhost:8080/",
          "height": 123
        },
        "id": "IQhZwfI7BrUH",
        "outputId": "e978a450-a436-4168-e126-51ce58b2af15"
      },
      "execution_count": null,
      "outputs": [
        {
          "output_type": "execute_result",
          "data": {
            "text/plain": [
              "'ინდოეთის დედაქალაქ ნიუ-დელიში ჰაერის დაბინძურების მაჩვენებელმა ჯანდაცვის მსოფლიო ორგანიზაციის მიერ დაშვებულ ნორმას 20-ჯერ გადააჭარბა. ნაცრისფერი სმოგის გამო ქალაქში საგრძნობლადაა შემცირებული ხილვადობაც\\nრა განწყობაა სალომე ზურაბიშვილის შტაბში რა შედეგებზე საუბრობენ ისინი და როგორ აფასებენ ეგისონ რისერჩის ეკზიტპოლის მონაცემებს\\nინდინაპოლისის ზოოპარკში ძუ ლომმა თავისი 3 ბოკვერის მამა ლომი მოკლა. სპეციალისტები თავდახმის მიზეზის დადგენას ცდილობენ\\n„ჩვენ 28 ოქტომბერს არჩევნები მოგებული გვაქვს, რა ყალბი ციფრებიც არ უნდა აქვეყნოს &quot;ქართულმა ოცნებამ&quot; - გრიგოლ ვაშაძე\\nმანქანებით გადატვირთულ გზაზე დაბნეულ ძაღლს ყველა გვერდს უვლიდა... მხოლოდ ავტობუსის მძღოლმა გააჩერა მგზავრებით სავსე ტრანსპორტი\\n‘’ვინც იდგა იქ, ცოცხლებიც და დაღუპულებიც, არიან გმირები და ის ადგილი არის წმინდა ადგილი’’ - ამირან სალუქვაძე\\nყველამ უნდა იგრძნოს დისკომფორტი და 9 აპრილის გმირების სისხლით მორწყლი მიწა როგორ უნდა ერგოს მეჩითოვს და ზურაბიშვილს - ვახტანგ ბერიძე\\nსაარჩევნო კოდექსით არის დარეგულირებული, რომ უცხო ქვეყნის მოქალაქეს არ შეუძლია აგიტაციაში შესვლა - ვახტანგ ბერიძე გრიგოლ ვაშაძის წინააღმდეგ\\nიმ ადგილას ექსკურსიაზე არ გაგატარებენ, დიდი \"პაგონები\" თუ არ გარტყია - გიორგი ოთხმეზური თვლის, რომ პრაქტიკულად გამორიცხულია გრიგოლ ვაშაძე КГБ-ს აგენტები არ ყოფილიყო\\nვერ ვიტყვი, რომ სალომესთან კარგი ურთიერთობა მქონდა, საკუთარ ძმას არ ეურთიერთებოდა ორი ათეული წელი - გოგი ხოშტარია სალომე ზურაბიშვილს ახასიათებს\\nმოლდოვაში პრეზიდენტი პუტინთან ჩადის და კოცნის, მაგრამ მთავრობა არის პროდასავლური და პრეზიდენტი ვერაფერს აკეთებს - ამირან სალუქვაძე\\nხე ნაყოფით შეიცნობა, სალომე ზურაბიშვილის შემთხვევაში კონკრეტული ნივთმტკიცება დევს მისი წიგნის სახით - ნიკოლოზ ვაშაკიძე\\nარის დასაშვები, რომ წითელაშვილი და ძასოხოვიც მსხვერპლი ყოფილიყვნენ - დისკუსია გოჩა მირცხულავასა და გიორგი უძილაურს შორის\\nგავიხედე და დავინახე, რომ სალომე ზურაბიშვილს მხარს უჭერს იგორ გიორგაძე და დავამტავრე იქ არგუმენტები - გოჩა მირცხულავა\\nკი გეწყინათ, მაგრამ ვინ არის მეჩითოვი? ეგ არავინ არ არის! - თამარ ჭოველიძის მამა ყველა ხელისუფლებას უყურადღებობაში ადანაშაულებს\\nეს გინდა ერთი კაცის აზრი იყოს და გინდა ოცდაათის, ეს საქართველოს ისტორიას ვერ გადაწერს - გიორგი ოთხმეზური იური მეჩითოვის განცხადებაზე\\nნეტავ რა დავალება ჰქონდა იური მეჩითოვს, ან გადაუხადეს ძალიან ბევრი, ან სწორად არ ფიქრობს და არ იცის - 9 აპრილს მოკლული თამარ ჭოველიძის მამა\\n\\'\\'წარმოვიდგენდით, რომ ჩვენივე ქვეყანაში 9 აპრილსაც კი შეეხებოდა ვინმე?\\'\\' - იური მეჩითოვის ინტერვიუ ალ-ჯაზირასთან, რომელმაც საზოგადოება შოკში ჩააგდო\\n\\'\\'წარმოვიდგინე, რომ ომია, რუსები არიან შემოსულები და ბიძინა ივანიშვილია ჩვენი წინამძღოლი, ამ ადამიანმა უნდა დაგვიძახოს? გუშინ არჩევნების წაგების გამო მიწასთან იყო გასწორებული\\'\\' - ირაკლი ოქრუაშვილი\\nადამიანი, რომელიც უშვერი სიტყვებით აგინებს თავის ხალხს, არ მგონია რამე კარგი გაუკეთოს თავის ქვეყანას - ირაკლი მეძმარიაშვილი\\nკატასტროფულად მეშინია პოლიტიკოსების, როგორ უსწორდებიან ერთმანეთს, როგორ ლანძღავენ - ანა მიქაძე-ჩიკვაიძე\\nოცნების გამოსწორება უფრო შეიძლება ვიდრე ნაციონალების - ირაკლი მეძმარიაშვილი ➡ 9-წლიანი უაპელაციო, უკონკურენტო მმართველობა იდეალისტ ბიჭებსაც რყვნის - ქეთევან იგნატოვა\\nამ ერთ წელიწადში როგორც ანაკონდა ახრჩობს თავის მსხვერპლს, ასეევე დაგვახრჩობს ყველას - ირაკლი ოქრუაშვილი ბიძინა ივანიშვილზე\\n50 მილიონი მოიპარა და მე მელაპარაკება მორალზე და ნამუსზე? - ირაკლი ოქრუაშვილი გიგი უგულავას განცხადებებს ბლუყუნს უწოდებს\\nმიხეილ სააკაშვილმა ამასწინათ ისეთი მშვენიერი კომენტირება გააკეთა, დიმა ობოლაძის ადგილს შევთავაზებდი - ირაკლი ოქრუაშვილი\\nროგორ დაიგეგმა ირაკლი ოქრუაშვილის და გრიგოლ ვაშაძის შეხვედრა ❓ როგორია თავდაცვის ყოფილი მინისტრის და მისი 30 მეგობრის შთაბეჭდილება\\nრეაქციას თავდაცვის ყოფილი მინისტრი - ირაკლი ოქრუაშვილი გახსნის ❓ რა გადაწყვიტა და რაზე ჩამოყალიბდა: დაუჭერს თუ არა მხარს გაერთიანებული ოპოზიციის პრეზიდენტობის კანდიდატს არჩევნების მეორე ტურში?\\nრატომ ჰქონდა აგრესიული რექაცია ბიძინა ივანიშვილს არჩევნებამდე 10 დღით ადრე ყოფილი თანამებრძოლის რჩევაზე ➡ გია ხუხაშვილი ქართული ოცნების ლიდერთან ურთიერთობაზე ექსკლუზიურად \"რეაქციაში\" საუბრობს საუბრობს\\nქართულ ოცნებას მეტი რესურსი არ აქვს, ამის ელემეტარული მათემატიკა და ფორმულები არსებობს - ზაალ უდუმაშვილი\\nეს არის რეალურად დამარცხებული ადამიანის სინდრომი, რომელიც კედლებს ეხეთქება და დაიწყებს იმ ადამაინების თავების მოკვეთას, ვინც დავალება ვერ შეუსრულა - ზაალ უდუმაშვილი\\nბოლო ერთი კვირაა ქართულ ოცნებაში რიხი დაკარგულია, რამდენიმე კვირა გვაშორებს გრიგოლ ვაშაძის გამარჯვების გაფორმებამდე - ზაალ უდუმაშვილი\\nსაქართველოში სტაბილურობა არ ყოფილა ზვიად გამსახურდიას იარაღით ჩამოგდებიდან ქართული ოცნების მოსვლამდე - ზვიად ძიძიგური\\nთუ ირაკლი ღარიბაშვილი გამოჩნდება პოლიტიკურ პროცესებში, ამას მხოლოდ დადებითი ემოცია შეუძლია გამოიწვიოს - ზვიად ძიძიგური\\nძალიან სამწუხაროა, რომ ივანიშვილმაც კი გადაწყვიტა, რომ ტალახი მესროლოს და ამ ტალახში ჩამძიროს - ზაზა სარალიძე\\nრატომ ფიქრობს უცნობი წავიდეს თუ არა 7 ნოემბერს ოცნების მხარდამჭერთა შეკრებაზე? ➡ არ ვარ ის ადამიანი, რომ ვითამაშო ურთიერთობებით - გია გაჩეჩილაძე\\nუცნობს ახალი ტელევიზიის გაკეთება სურდა, თუმცა უარი მიიღო ➡ თავისუფალი ადამიანი ამ ხელისუფლებაში კი არა, არავის არ უყვარს - გია გაჩეჩილაძე\\nეტყობა ვერ იგებთ, რაშია საქმე მე არ ვიცი - ადა მარშანია ამბობს, რომ მას პირველ რიგში აინტერესებს, რას აშავებს საქართველო და შემდეგ, რას აშავებს რუსეთი'"
            ],
            "application/vnd.google.colaboratory.intrinsic+json": {
              "type": "string"
            }
          },
          "metadata": {},
          "execution_count": 7
        }
      ]
    },
    {
      "cell_type": "code",
      "source": [
        "from nltk import sent_tokenize\n",
        "all_sentences = []\n",
        "for txt in text:\n",
        "  txt = txt.split('\\n')\n",
        "  tokenized_text = []\n",
        "  for sentence in txt:\n",
        "    tokenized_text += sent_tokenize(sentence)\n",
        "  all_sentences += tokenized_text\n",
        "len(all_sentences)"
      ],
      "metadata": {
        "colab": {
          "base_uri": "https://localhost:8080/"
        },
        "id": "LwEx58HUECO3",
        "outputId": "9beffc76-906e-4f59-97d6-02d48dc5d4f4"
      },
      "execution_count": null,
      "outputs": [
        {
          "output_type": "execute_result",
          "data": {
            "text/plain": [
              "11511987"
            ]
          },
          "metadata": {},
          "execution_count": 8
        }
      ]
    },
    {
      "cell_type": "code",
      "source": [
        "all_sentences[0]"
      ],
      "metadata": {
        "colab": {
          "base_uri": "https://localhost:8080/",
          "height": 53
        },
        "id": "PHBLTcPyEx5j",
        "outputId": "d4ff2d64-23a0-4b0b-c643-50d7b3024f20"
      },
      "execution_count": null,
      "outputs": [
        {
          "output_type": "execute_result",
          "data": {
            "text/plain": [
              "'წამიყვანე შენთან ერთად (ქართულად) / Возьми меня с собой (картулад) / (რუსული სერიალები ქართულად) (რუსების პორნო ონლაინში) (rusebis porno) რუსული სერიალები ფილმები ქართულად ონლაინში / turquli serialebi'"
            ],
            "application/vnd.google.colaboratory.intrinsic+json": {
              "type": "string"
            }
          },
          "metadata": {},
          "execution_count": 9
        }
      ]
    },
    {
      "cell_type": "code",
      "source": [
        "text[0]"
      ],
      "metadata": {
        "colab": {
          "base_uri": "https://localhost:8080/",
          "height": 88
        },
        "id": "Zyg6g8-AJ_tC",
        "outputId": "f60aff86-6e35-47eb-cfa5-273a3d7be1e6"
      },
      "execution_count": null,
      "outputs": [
        {
          "output_type": "execute_result",
          "data": {
            "text/plain": [
              "'წამიყვანე შენთან ერთად (ქართულად) / Возьми меня с собой (картулад) / (რუსული სერიალები ქართულად) (რუსების პორნო ონლაინში) (rusebis porno) რუსული სერიალები ფილმები ქართულად ონლაინში / turquli serialebi\\nწამიყვანე შენთან ერთად (ქართულად) / Возьми меня с собой (картулад) / (რუსული სერიალები ქართულად) (რუსების პორნო ონლაინში) (rusebis porno)\\nმოკლე აღწერა:როგორც ჩანს, 3 სკოლის მეგობარ, როგორც ჩანს, არასოდეს ნაწილი. ყველა მათგანს სურს ბედნიერება ცხოვრებაში, რომელიც მათ ოცნებობდნენ ბავშვობიდან. მაგრამ დრო გადის და თითოეული მათგანი სხვადასხვა გზით ცხოვრობს. რიტა აქვს დიდი რაოდენობით მოყვარულებს, მან არ იცის განცდა მარტოობა,'"
            ],
            "application/vnd.google.colaboratory.intrinsic+json": {
              "type": "string"
            }
          },
          "metadata": {},
          "execution_count": 10
        }
      ]
    },
    {
      "cell_type": "code",
      "source": [
        "df = pd.DataFrame({\"Sentence\": all_sentences})\n",
        "df.to_csv(\"/content/drive/MyDrive/GeorgianLanguageModel/sentences_unfiltered.csv\", index=False)"
      ],
      "metadata": {
        "id": "RLrfKn5aehvJ",
        "colab": {
          "base_uri": "https://localhost:8080/",
          "height": 182
        },
        "outputId": "44006ee1-7d29-4a59-c35d-8ad0d240176d"
      },
      "execution_count": 2,
      "outputs": [
        {
          "output_type": "error",
          "ename": "NameError",
          "evalue": "ignored",
          "traceback": [
            "\u001b[0;31m---------------------------------------------------------------------------\u001b[0m",
            "\u001b[0;31mNameError\u001b[0m                                 Traceback (most recent call last)",
            "\u001b[0;32m<ipython-input-2-635513fd6d95>\u001b[0m in \u001b[0;36m<module>\u001b[0;34m()\u001b[0m\n\u001b[0;32m----> 1\u001b[0;31m \u001b[0mdf\u001b[0m \u001b[0;34m=\u001b[0m \u001b[0mpd\u001b[0m\u001b[0;34m.\u001b[0m\u001b[0mDataFrame\u001b[0m\u001b[0;34m(\u001b[0m\u001b[0;34m{\u001b[0m\u001b[0;34m\"Sentence\"\u001b[0m\u001b[0;34m:\u001b[0m \u001b[0mall_sentences\u001b[0m\u001b[0;34m}\u001b[0m\u001b[0;34m)\u001b[0m\u001b[0;34m\u001b[0m\u001b[0;34m\u001b[0m\u001b[0m\n\u001b[0m\u001b[1;32m      2\u001b[0m \u001b[0mdf\u001b[0m\u001b[0;34m.\u001b[0m\u001b[0mto_csv\u001b[0m\u001b[0;34m(\u001b[0m\u001b[0;34m\"/content/drive/MyDrive/GeorgianLanguageModel/sentences_unfiltered.csv\"\u001b[0m\u001b[0;34m,\u001b[0m \u001b[0mindex\u001b[0m\u001b[0;34m=\u001b[0m\u001b[0;32mFalse\u001b[0m\u001b[0;34m)\u001b[0m\u001b[0;34m\u001b[0m\u001b[0;34m\u001b[0m\u001b[0m\n",
            "\u001b[0;31mNameError\u001b[0m: name 'all_sentences' is not defined"
          ]
        }
      ]
    },
    {
      "cell_type": "code",
      "source": [
        "all_sentences_df = pd.read_csv('/content/drive/MyDrive/GeorgianLanguageModel/sentences_unfiltered.csv', lineterminator='\\n')\n",
        "all_sentences_df.head()"
      ],
      "metadata": {
        "colab": {
          "base_uri": "https://localhost:8080/",
          "height": 206
        },
        "id": "kWRQlKJulP9q",
        "outputId": "07e706a5-5b0a-4a22-cb68-d8502967fe06"
      },
      "execution_count": 3,
      "outputs": [
        {
          "output_type": "execute_result",
          "data": {
            "text/plain": [
              "                                            Sentence\n",
              "0  წამიყვანე შენთან ერთად (ქართულად) / Возьми мен...\n",
              "1  წამიყვანე შენთან ერთად (ქართულად) / Возьми мен...\n",
              "2  მოკლე აღწერა:როგორც ჩანს, 3 სკოლის მეგობარ, რო...\n",
              "3  ყველა მათგანს სურს ბედნიერება ცხოვრებაში, რომე...\n",
              "4  მაგრამ დრო გადის და თითოეული მათგანი სხვადასხვ..."
            ],
            "text/html": [
              "\n",
              "  <div id=\"df-32f5b3c2-3490-4ab5-bfd0-be5ed33f4d32\">\n",
              "    <div class=\"colab-df-container\">\n",
              "      <div>\n",
              "<style scoped>\n",
              "    .dataframe tbody tr th:only-of-type {\n",
              "        vertical-align: middle;\n",
              "    }\n",
              "\n",
              "    .dataframe tbody tr th {\n",
              "        vertical-align: top;\n",
              "    }\n",
              "\n",
              "    .dataframe thead th {\n",
              "        text-align: right;\n",
              "    }\n",
              "</style>\n",
              "<table border=\"1\" class=\"dataframe\">\n",
              "  <thead>\n",
              "    <tr style=\"text-align: right;\">\n",
              "      <th></th>\n",
              "      <th>Sentence</th>\n",
              "    </tr>\n",
              "  </thead>\n",
              "  <tbody>\n",
              "    <tr>\n",
              "      <th>0</th>\n",
              "      <td>წამიყვანე შენთან ერთად (ქართულად) / Возьми мен...</td>\n",
              "    </tr>\n",
              "    <tr>\n",
              "      <th>1</th>\n",
              "      <td>წამიყვანე შენთან ერთად (ქართულად) / Возьми мен...</td>\n",
              "    </tr>\n",
              "    <tr>\n",
              "      <th>2</th>\n",
              "      <td>მოკლე აღწერა:როგორც ჩანს, 3 სკოლის მეგობარ, რო...</td>\n",
              "    </tr>\n",
              "    <tr>\n",
              "      <th>3</th>\n",
              "      <td>ყველა მათგანს სურს ბედნიერება ცხოვრებაში, რომე...</td>\n",
              "    </tr>\n",
              "    <tr>\n",
              "      <th>4</th>\n",
              "      <td>მაგრამ დრო გადის და თითოეული მათგანი სხვადასხვ...</td>\n",
              "    </tr>\n",
              "  </tbody>\n",
              "</table>\n",
              "</div>\n",
              "      <button class=\"colab-df-convert\" onclick=\"convertToInteractive('df-32f5b3c2-3490-4ab5-bfd0-be5ed33f4d32')\"\n",
              "              title=\"Convert this dataframe to an interactive table.\"\n",
              "              style=\"display:none;\">\n",
              "        \n",
              "  <svg xmlns=\"http://www.w3.org/2000/svg\" height=\"24px\"viewBox=\"0 0 24 24\"\n",
              "       width=\"24px\">\n",
              "    <path d=\"M0 0h24v24H0V0z\" fill=\"none\"/>\n",
              "    <path d=\"M18.56 5.44l.94 2.06.94-2.06 2.06-.94-2.06-.94-.94-2.06-.94 2.06-2.06.94zm-11 1L8.5 8.5l.94-2.06 2.06-.94-2.06-.94L8.5 2.5l-.94 2.06-2.06.94zm10 10l.94 2.06.94-2.06 2.06-.94-2.06-.94-.94-2.06-.94 2.06-2.06.94z\"/><path d=\"M17.41 7.96l-1.37-1.37c-.4-.4-.92-.59-1.43-.59-.52 0-1.04.2-1.43.59L10.3 9.45l-7.72 7.72c-.78.78-.78 2.05 0 2.83L4 21.41c.39.39.9.59 1.41.59.51 0 1.02-.2 1.41-.59l7.78-7.78 2.81-2.81c.8-.78.8-2.07 0-2.86zM5.41 20L4 18.59l7.72-7.72 1.47 1.35L5.41 20z\"/>\n",
              "  </svg>\n",
              "      </button>\n",
              "      \n",
              "  <style>\n",
              "    .colab-df-container {\n",
              "      display:flex;\n",
              "      flex-wrap:wrap;\n",
              "      gap: 12px;\n",
              "    }\n",
              "\n",
              "    .colab-df-convert {\n",
              "      background-color: #E8F0FE;\n",
              "      border: none;\n",
              "      border-radius: 50%;\n",
              "      cursor: pointer;\n",
              "      display: none;\n",
              "      fill: #1967D2;\n",
              "      height: 32px;\n",
              "      padding: 0 0 0 0;\n",
              "      width: 32px;\n",
              "    }\n",
              "\n",
              "    .colab-df-convert:hover {\n",
              "      background-color: #E2EBFA;\n",
              "      box-shadow: 0px 1px 2px rgba(60, 64, 67, 0.3), 0px 1px 3px 1px rgba(60, 64, 67, 0.15);\n",
              "      fill: #174EA6;\n",
              "    }\n",
              "\n",
              "    [theme=dark] .colab-df-convert {\n",
              "      background-color: #3B4455;\n",
              "      fill: #D2E3FC;\n",
              "    }\n",
              "\n",
              "    [theme=dark] .colab-df-convert:hover {\n",
              "      background-color: #434B5C;\n",
              "      box-shadow: 0px 1px 3px 1px rgba(0, 0, 0, 0.15);\n",
              "      filter: drop-shadow(0px 1px 2px rgba(0, 0, 0, 0.3));\n",
              "      fill: #FFFFFF;\n",
              "    }\n",
              "  </style>\n",
              "\n",
              "      <script>\n",
              "        const buttonEl =\n",
              "          document.querySelector('#df-32f5b3c2-3490-4ab5-bfd0-be5ed33f4d32 button.colab-df-convert');\n",
              "        buttonEl.style.display =\n",
              "          google.colab.kernel.accessAllowed ? 'block' : 'none';\n",
              "\n",
              "        async function convertToInteractive(key) {\n",
              "          const element = document.querySelector('#df-32f5b3c2-3490-4ab5-bfd0-be5ed33f4d32');\n",
              "          const dataTable =\n",
              "            await google.colab.kernel.invokeFunction('convertToInteractive',\n",
              "                                                     [key], {});\n",
              "          if (!dataTable) return;\n",
              "\n",
              "          const docLinkHtml = 'Like what you see? Visit the ' +\n",
              "            '<a target=\"_blank\" href=https://colab.research.google.com/notebooks/data_table.ipynb>data table notebook</a>'\n",
              "            + ' to learn more about interactive tables.';\n",
              "          element.innerHTML = '';\n",
              "          dataTable['output_type'] = 'display_data';\n",
              "          await google.colab.output.renderOutput(dataTable, element);\n",
              "          const docLink = document.createElement('div');\n",
              "          docLink.innerHTML = docLinkHtml;\n",
              "          element.appendChild(docLink);\n",
              "        }\n",
              "      </script>\n",
              "    </div>\n",
              "  </div>\n",
              "  "
            ]
          },
          "metadata": {},
          "execution_count": 3
        }
      ]
    },
    {
      "cell_type": "code",
      "source": [
        "all_sentences = all_sentences_df[\"Sentence\"].values\n",
        "all_sentences = list(all_sentences)\n",
        "print(type(all_sentences))"
      ],
      "metadata": {
        "colab": {
          "base_uri": "https://localhost:8080/"
        },
        "id": "cYtrm2sPl8x5",
        "outputId": "f44af95a-bca4-45a0-d128-2ff531ee42fa"
      },
      "execution_count": 4,
      "outputs": [
        {
          "output_type": "stream",
          "name": "stdout",
          "text": [
            "<class 'list'>\n"
          ]
        }
      ]
    },
    {
      "cell_type": "code",
      "source": [
        "not_strs = []\n",
        "for sentence in all_sentences:\n",
        "  a = type(sentence)\n",
        "  if str(a) != '<class \\'str\\'>':\n",
        "    not_strs.append(sentence)\n",
        "\n",
        "print(not_strs)\n",
        "\n",
        "for sentence in not_strs:\n",
        "  all_sentences.remove(sentence)"
      ],
      "metadata": {
        "colab": {
          "base_uri": "https://localhost:8080/"
        },
        "id": "oDtIPxRCnY8a",
        "outputId": "56d53f48-3871-4656-9df2-038d0e3803b1"
      },
      "execution_count": 5,
      "outputs": [
        {
          "output_type": "stream",
          "name": "stdout",
          "text": [
            "[nan]\n"
          ]
        }
      ]
    },
    {
      "cell_type": "code",
      "source": [
        "len(all_sentences)"
      ],
      "metadata": {
        "colab": {
          "base_uri": "https://localhost:8080/"
        },
        "id": "RyMdvXs0oxiq",
        "outputId": "42fc9428-d9a1-4653-be6d-dea79e2a7b4b"
      },
      "execution_count": 6,
      "outputs": [
        {
          "output_type": "execute_result",
          "data": {
            "text/plain": [
              "11511986"
            ]
          },
          "metadata": {},
          "execution_count": 6
        }
      ]
    },
    {
      "cell_type": "code",
      "source": [
        "\n",
        "all_sentences[127]"
      ],
      "metadata": {
        "colab": {
          "base_uri": "https://localhost:8080/",
          "height": 36
        },
        "id": "jsxhkSKBlsH8",
        "outputId": "741fd23b-f931-48bf-8ba0-02f39043b5d7"
      },
      "execution_count": 39,
      "outputs": [
        {
          "output_type": "execute_result",
          "data": {
            "text/plain": [
              "'მთის განვითარების ფონდის და ახალციხის მუნიციპალიტეტის მერიის დაფინანსებით ახალციხეში, სოფელ ურაველში გზის ნაწილი მოასფალტდება.'"
            ],
            "application/vnd.google.colaboratory.intrinsic+json": {
              "type": "string"
            }
          },
          "metadata": {},
          "execution_count": 39
        }
      ]
    },
    {
      "cell_type": "code",
      "source": [
        "import re\n",
        "\n",
        "pattern = '[^ ]*[^აბგდევზთიკლმნოპჟრსტუფქღყშჩცძწჭხჯჰ0123456789 ]+[^ ]*'\n",
        "new_sentences = []\n",
        "def clean(x):\n",
        "  x = re.sub('#\\S+', '', x)  # remove hashtags\n",
        "  x = re.sub('[%s]' % re.escape(\"\"\"!\"#$%&'()*+,-./:;<=>@[\\]^_`{|}~\"\"\"), ' ', x)  # remove punctuations\n",
        "  x = re.sub('\\s+', ' ', x) # remove extra spaces\n",
        "  x = re.sub(pattern, \"\", x) # remove non only georgian letters\n",
        "  return x\n",
        "for i in range(len(all_sentences)): \n",
        "  if i % 1000000 == 0:\n",
        "    print(i)\n",
        "  new_sentences.append(clean(all_sentences[i]))\n"
      ],
      "metadata": {
        "id": "-E0_gzbATAKp",
        "colab": {
          "base_uri": "https://localhost:8080/"
        },
        "outputId": "3f4ac62c-f3b0-4260-c8c9-974bdb7f1779"
      },
      "execution_count": 6,
      "outputs": [
        {
          "output_type": "stream",
          "name": "stdout",
          "text": [
            "0\n",
            "1000000\n",
            "2000000\n",
            "3000000\n",
            "4000000\n",
            "5000000\n",
            "6000000\n",
            "7000000\n",
            "8000000\n",
            "9000000\n",
            "10000000\n",
            "11000000\n"
          ]
        }
      ]
    },
    {
      "cell_type": "code",
      "source": [
        "new_sentences[0]"
      ],
      "metadata": {
        "colab": {
          "base_uri": "https://localhost:8080/",
          "height": 36
        },
        "id": "Gdi7Ajh9l5ko",
        "outputId": "4336fe8a-791a-4fad-be14-dc7338b4dcb8"
      },
      "execution_count": 14,
      "outputs": [
        {
          "output_type": "execute_result",
          "data": {
            "text/plain": [
              "'წამიყვანე შენთან ერთად ქართულად      რუსული სერიალები ქართულად რუსების პორნო ონლაინში   რუსული სერიალები ფილმები ქართულად ონლაინში  '"
            ],
            "application/vnd.google.colaboratory.intrinsic+json": {
              "type": "string"
            }
          },
          "metadata": {},
          "execution_count": 14
        }
      ]
    },
    {
      "cell_type": "code",
      "source": [
        "df = pd.DataFrame({\"Sentence\": new_sentences})\n",
        "df.to_csv(\"/content/drive/MyDrive/GeorgianLanguageModel/cleaned_sentences.csv\", index=False)"
      ],
      "metadata": {
        "id": "sXtiEZ-cujT7"
      },
      "execution_count": 15,
      "outputs": []
    },
    {
      "cell_type": "code",
      "source": [
        "all_sentences_df = pd.read_csv(\"/content/drive/MyDrive/GeorgianLanguageModel/cleaned_sentences.csv\")\n",
        "all_sentences_df.head()"
      ],
      "metadata": {
        "id": "psrHdiZISdiL",
        "colab": {
          "base_uri": "https://localhost:8080/",
          "height": 206
        },
        "outputId": "1977b717-45e9-40dd-df97-1471afa0b541"
      },
      "execution_count": 2,
      "outputs": [
        {
          "output_type": "execute_result",
          "data": {
            "text/plain": [
              "                                            Sentence\n",
              "0  წამიყვანე შენთან ერთად ქართულად      რუსული სე...\n",
              "1  წამიყვანე შენთან ერთად ქართულად      რუსული სე...\n",
              "2  მოკლე აღწერა როგორც ჩანს 3 სკოლის მეგობარ როგო...\n",
              "3  ყველა მათგანს სურს ბედნიერება ცხოვრებაში რომელ...\n",
              "4  მაგრამ დრო გადის და თითოეული მათგანი სხვადასხვ..."
            ],
            "text/html": [
              "\n",
              "  <div id=\"df-a192a17c-da96-4654-bb2b-e435580d2cf8\">\n",
              "    <div class=\"colab-df-container\">\n",
              "      <div>\n",
              "<style scoped>\n",
              "    .dataframe tbody tr th:only-of-type {\n",
              "        vertical-align: middle;\n",
              "    }\n",
              "\n",
              "    .dataframe tbody tr th {\n",
              "        vertical-align: top;\n",
              "    }\n",
              "\n",
              "    .dataframe thead th {\n",
              "        text-align: right;\n",
              "    }\n",
              "</style>\n",
              "<table border=\"1\" class=\"dataframe\">\n",
              "  <thead>\n",
              "    <tr style=\"text-align: right;\">\n",
              "      <th></th>\n",
              "      <th>Sentence</th>\n",
              "    </tr>\n",
              "  </thead>\n",
              "  <tbody>\n",
              "    <tr>\n",
              "      <th>0</th>\n",
              "      <td>წამიყვანე შენთან ერთად ქართულად      რუსული სე...</td>\n",
              "    </tr>\n",
              "    <tr>\n",
              "      <th>1</th>\n",
              "      <td>წამიყვანე შენთან ერთად ქართულად      რუსული სე...</td>\n",
              "    </tr>\n",
              "    <tr>\n",
              "      <th>2</th>\n",
              "      <td>მოკლე აღწერა როგორც ჩანს 3 სკოლის მეგობარ როგო...</td>\n",
              "    </tr>\n",
              "    <tr>\n",
              "      <th>3</th>\n",
              "      <td>ყველა მათგანს სურს ბედნიერება ცხოვრებაში რომელ...</td>\n",
              "    </tr>\n",
              "    <tr>\n",
              "      <th>4</th>\n",
              "      <td>მაგრამ დრო გადის და თითოეული მათგანი სხვადასხვ...</td>\n",
              "    </tr>\n",
              "  </tbody>\n",
              "</table>\n",
              "</div>\n",
              "      <button class=\"colab-df-convert\" onclick=\"convertToInteractive('df-a192a17c-da96-4654-bb2b-e435580d2cf8')\"\n",
              "              title=\"Convert this dataframe to an interactive table.\"\n",
              "              style=\"display:none;\">\n",
              "        \n",
              "  <svg xmlns=\"http://www.w3.org/2000/svg\" height=\"24px\"viewBox=\"0 0 24 24\"\n",
              "       width=\"24px\">\n",
              "    <path d=\"M0 0h24v24H0V0z\" fill=\"none\"/>\n",
              "    <path d=\"M18.56 5.44l.94 2.06.94-2.06 2.06-.94-2.06-.94-.94-2.06-.94 2.06-2.06.94zm-11 1L8.5 8.5l.94-2.06 2.06-.94-2.06-.94L8.5 2.5l-.94 2.06-2.06.94zm10 10l.94 2.06.94-2.06 2.06-.94-2.06-.94-.94-2.06-.94 2.06-2.06.94z\"/><path d=\"M17.41 7.96l-1.37-1.37c-.4-.4-.92-.59-1.43-.59-.52 0-1.04.2-1.43.59L10.3 9.45l-7.72 7.72c-.78.78-.78 2.05 0 2.83L4 21.41c.39.39.9.59 1.41.59.51 0 1.02-.2 1.41-.59l7.78-7.78 2.81-2.81c.8-.78.8-2.07 0-2.86zM5.41 20L4 18.59l7.72-7.72 1.47 1.35L5.41 20z\"/>\n",
              "  </svg>\n",
              "      </button>\n",
              "      \n",
              "  <style>\n",
              "    .colab-df-container {\n",
              "      display:flex;\n",
              "      flex-wrap:wrap;\n",
              "      gap: 12px;\n",
              "    }\n",
              "\n",
              "    .colab-df-convert {\n",
              "      background-color: #E8F0FE;\n",
              "      border: none;\n",
              "      border-radius: 50%;\n",
              "      cursor: pointer;\n",
              "      display: none;\n",
              "      fill: #1967D2;\n",
              "      height: 32px;\n",
              "      padding: 0 0 0 0;\n",
              "      width: 32px;\n",
              "    }\n",
              "\n",
              "    .colab-df-convert:hover {\n",
              "      background-color: #E2EBFA;\n",
              "      box-shadow: 0px 1px 2px rgba(60, 64, 67, 0.3), 0px 1px 3px 1px rgba(60, 64, 67, 0.15);\n",
              "      fill: #174EA6;\n",
              "    }\n",
              "\n",
              "    [theme=dark] .colab-df-convert {\n",
              "      background-color: #3B4455;\n",
              "      fill: #D2E3FC;\n",
              "    }\n",
              "\n",
              "    [theme=dark] .colab-df-convert:hover {\n",
              "      background-color: #434B5C;\n",
              "      box-shadow: 0px 1px 3px 1px rgba(0, 0, 0, 0.15);\n",
              "      filter: drop-shadow(0px 1px 2px rgba(0, 0, 0, 0.3));\n",
              "      fill: #FFFFFF;\n",
              "    }\n",
              "  </style>\n",
              "\n",
              "      <script>\n",
              "        const buttonEl =\n",
              "          document.querySelector('#df-a192a17c-da96-4654-bb2b-e435580d2cf8 button.colab-df-convert');\n",
              "        buttonEl.style.display =\n",
              "          google.colab.kernel.accessAllowed ? 'block' : 'none';\n",
              "\n",
              "        async function convertToInteractive(key) {\n",
              "          const element = document.querySelector('#df-a192a17c-da96-4654-bb2b-e435580d2cf8');\n",
              "          const dataTable =\n",
              "            await google.colab.kernel.invokeFunction('convertToInteractive',\n",
              "                                                     [key], {});\n",
              "          if (!dataTable) return;\n",
              "\n",
              "          const docLinkHtml = 'Like what you see? Visit the ' +\n",
              "            '<a target=\"_blank\" href=https://colab.research.google.com/notebooks/data_table.ipynb>data table notebook</a>'\n",
              "            + ' to learn more about interactive tables.';\n",
              "          element.innerHTML = '';\n",
              "          dataTable['output_type'] = 'display_data';\n",
              "          await google.colab.output.renderOutput(dataTable, element);\n",
              "          const docLink = document.createElement('div');\n",
              "          docLink.innerHTML = docLinkHtml;\n",
              "          element.appendChild(docLink);\n",
              "        }\n",
              "      </script>\n",
              "    </div>\n",
              "  </div>\n",
              "  "
            ]
          },
          "metadata": {},
          "execution_count": 2
        }
      ]
    },
    {
      "cell_type": "code",
      "source": [
        "all_sentences = all_sentences_df[\"Sentence\"].values\n",
        "all_sentences = list(all_sentences)\n",
        "all_sentences = list(filter(lambda x: type(x) == str,all_sentences))"
      ],
      "metadata": {
        "id": "bL2BRgyzzGQJ"
      },
      "execution_count": 3,
      "outputs": []
    },
    {
      "cell_type": "code",
      "source": [
        "sentence_length = list(map(lambda x: len(x.split()),all_sentences))"
      ],
      "metadata": {
        "id": "Et96RK8BzO7T"
      },
      "execution_count": 17,
      "outputs": []
    },
    {
      "cell_type": "code",
      "source": [
        "sns.boxplot(y = sentence_length)\n",
        "plt.show()"
      ],
      "metadata": {
        "colab": {
          "base_uri": "https://localhost:8080/",
          "height": 252
        },
        "id": "lV13eIEB0j9l",
        "outputId": "a70ef41c-e27e-45ef-af01-ac5162ff14b2"
      },
      "execution_count": 18,
      "outputs": [
        {
          "output_type": "display_data",
          "data": {
            "text/plain": [
              "<Figure size 432x288 with 1 Axes>"
            ],
            "image/png": "[encoded data removed]"
          },
          "metadata": {
            "needs_background": "light"
          }
        }
      ]
    },
    {
      "cell_type": "code",
      "source": [
        "def get_margins(y):\n",
        "    upper_quartile = np.percentile(y, 75)\n",
        "    lower_quartile = np.percentile(y, 25)\n",
        "\n",
        "    iqr = upper_quartile - lower_quartile\n",
        "    upper_whisker = y[y<=upper_quartile+1.5*iqr].max()\n",
        "    lower_whisker = y[y>=lower_quartile-1.5*iqr].min()\n",
        "    return upper_whisker,lower_whisker,len(y[y>upper_whisker]),len(y[y<lower_whisker])\n",
        "def print_margins(a,b,c,d):\n",
        "    print(\"\\nUpper bound: \",a,\"\\nLower bound: \",b,\"\\nNumber of above Outliers: \",c,\"\\nNumber of below Outliers:\",d)"
      ],
      "metadata": {
        "id": "2dRH4DSo1xSf"
      },
      "execution_count": 7,
      "outputs": []
    },
    {
      "cell_type": "code",
      "source": [
        "index_bounds,value_bounds = get_margins(np.array(sentence_length)),get_margins(np.array(sentence_length))\n",
        "print(\"Quantity information\")\n",
        "print_margins(index_bounds[0],index_bounds[1],index_bounds[2],index_bounds[3])\n",
        "print(\"\\nValue information\")\n",
        "print_margins(value_bounds[0],value_bounds[1],value_bounds[2],value_bounds[3])"
      ],
      "metadata": {
        "colab": {
          "base_uri": "https://localhost:8080/"
        },
        "id": "DRP06tXd1yOw",
        "outputId": "a2f1f94f-fe5a-42da-f049-ba22c6f09db2"
      },
      "execution_count": 20,
      "outputs": [
        {
          "output_type": "stream",
          "name": "stdout",
          "text": [
            "Quantity information\n",
            "\n",
            "Upper bound:  33 \n",
            "Lower bound:  1 \n",
            "Number of above Outliers:  504320 \n",
            "Number of below Outliers: 0\n",
            "\n",
            "Value information\n",
            "\n",
            "Upper bound:  33 \n",
            "Lower bound:  1 \n",
            "Number of above Outliers:  504320 \n",
            "Number of below Outliers: 0\n"
          ]
        }
      ]
    },
    {
      "cell_type": "code",
      "source": [
        "plt.figure(figsize=(10,10))\n",
        "sns.distplot(sentence_length)\n",
        "plt.show()"
      ],
      "metadata": {
        "colab": {
          "base_uri": "https://localhost:8080/",
          "height": 647
        },
        "id": "NJejBDzO2IXB",
        "outputId": "407f228d-176d-4229-9102-06e79b22980f"
      },
      "execution_count": 21,
      "outputs": [
        {
          "output_type": "stream",
          "name": "stderr",
          "text": [
            "/usr/local/lib/python3.7/dist-packages/seaborn/distributions.py:2619: FutureWarning: `distplot` is a deprecated function and will be removed in a future version. Please adapt your code to use either `displot` (a figure-level function with similar flexibility) or `histplot` (an axes-level function for histograms).\n",
            "  warnings.warn(msg, FutureWarning)\n"
          ]
        },
        {
          "output_type": "display_data",
          "data": {
            "text/plain": [
              "<Figure size 720x720 with 1 Axes>"
            ],
            "image/png": "[encoded data removed]"
          },
          "metadata": {
            "needs_background": "light"
          }
        }
      ]
    },
    {
      "cell_type": "code",
      "source": [
        "word_length = list(map(lambda x: [len(y) for y in x.split()],all_sentences))"
      ],
      "metadata": {
        "id": "4vlPawvt1hN2"
      },
      "execution_count": 4,
      "outputs": []
    },
    {
      "cell_type": "code",
      "source": [
        "flat_list = list(itertools.chain(*word_length))"
      ],
      "metadata": {
        "id": "88Efh68Z4ub6"
      },
      "execution_count": 5,
      "outputs": []
    },
    {
      "cell_type": "code",
      "source": [
        "len(flat_list) "
      ],
      "metadata": {
        "colab": {
          "base_uri": "https://localhost:8080/"
        },
        "id": "7QVk7poJ5amP",
        "outputId": "d388109a-d9a6-41c3-abdc-020e8a806bef"
      },
      "execution_count": 6,
      "outputs": [
        {
          "output_type": "execute_result",
          "data": {
            "text/plain": [
              "161600874"
            ]
          },
          "metadata": {},
          "execution_count": 6
        }
      ]
    },
    {
      "cell_type": "code",
      "source": [
        "index_bounds,value_bounds = get_margins(np.array(flat_list)),get_margins(np.array(flat_list))\n",
        "print(\"Quantity information\")\n",
        "print_margins(index_bounds[0],index_bounds[1],index_bounds[2],index_bounds[3])\n",
        "print(\"\\nValue information\")\n",
        "print_margins(value_bounds[0],value_bounds[1],value_bounds[2],value_bounds[3])"
      ],
      "metadata": {
        "colab": {
          "base_uri": "https://localhost:8080/"
        },
        "id": "lUURJ9jE5nMM",
        "outputId": "b3dbb573-7d5b-4ac2-a5f4-e04911297864"
      },
      "execution_count": 8,
      "outputs": [
        {
          "output_type": "stream",
          "name": "stdout",
          "text": [
            "Quantity information\n",
            "\n",
            "Upper bound:  16 \n",
            "Lower bound:  1 \n",
            "Number of above Outliers:  988058 \n",
            "Number of below Outliers: 0\n",
            "\n",
            "Value information\n",
            "\n",
            "Upper bound:  16 \n",
            "Lower bound:  1 \n",
            "Number of above Outliers:  988058 \n",
            "Number of below Outliers: 0\n"
          ]
        }
      ]
    },
    {
      "cell_type": "code",
      "source": [
        "Counter(flat_list)"
      ],
      "metadata": {
        "colab": {
          "base_uri": "https://localhost:8080/"
        },
        "id": "1zgkvjc67ZmZ",
        "outputId": "2551451f-1163-40b9-de11-eb9af85f07c0"
      },
      "execution_count": 9,
      "outputs": [
        {
          "output_type": "execute_result",
          "data": {
            "text/plain": [
              "Counter({1: 3545082,\n",
              "         2: 15585495,\n",
              "         3: 7748880,\n",
              "         4: 13849053,\n",
              "         5: 14500064,\n",
              "         6: 17305368,\n",
              "         7: 18253932,\n",
              "         8: 17711760,\n",
              "         9: 15370712,\n",
              "         10: 12616823,\n",
              "         11: 9809304,\n",
              "         12: 6701230,\n",
              "         13: 3540695,\n",
              "         14: 2065788,\n",
              "         15: 1355441,\n",
              "         16: 653189,\n",
              "         17: 334616,\n",
              "         18: 167514,\n",
              "         19: 122840,\n",
              "         20: 74155,\n",
              "         21: 82537,\n",
              "         22: 41283,\n",
              "         23: 18116,\n",
              "         24: 14336,\n",
              "         25: 16140,\n",
              "         26: 9712,\n",
              "         27: 6940,\n",
              "         28: 3681,\n",
              "         29: 4421,\n",
              "         30: 6215,\n",
              "         31: 1499,\n",
              "         32: 1407,\n",
              "         33: 2290,\n",
              "         34: 1637,\n",
              "         35: 1548,\n",
              "         36: 1209,\n",
              "         37: 5013,\n",
              "         38: 1558,\n",
              "         39: 2024,\n",
              "         40: 1406,\n",
              "         41: 2778,\n",
              "         42: 2747,\n",
              "         43: 1741,\n",
              "         44: 3276,\n",
              "         45: 1708,\n",
              "         46: 234,\n",
              "         47: 264,\n",
              "         48: 802,\n",
              "         49: 2181,\n",
              "         50: 421,\n",
              "         51: 1642,\n",
              "         52: 579,\n",
              "         53: 3137,\n",
              "         54: 388,\n",
              "         55: 283,\n",
              "         56: 2877,\n",
              "         57: 96,\n",
              "         58: 1841,\n",
              "         59: 4125,\n",
              "         60: 640,\n",
              "         61: 248,\n",
              "         62: 821,\n",
              "         63: 1140,\n",
              "         64: 102,\n",
              "         65: 42,\n",
              "         66: 192,\n",
              "         67: 2485,\n",
              "         68: 131,\n",
              "         69: 276,\n",
              "         70: 225,\n",
              "         71: 190,\n",
              "         72: 155,\n",
              "         73: 292,\n",
              "         74: 119,\n",
              "         75: 49,\n",
              "         76: 43,\n",
              "         77: 130,\n",
              "         78: 238,\n",
              "         79: 351,\n",
              "         80: 22,\n",
              "         81: 40,\n",
              "         82: 18,\n",
              "         83: 15,\n",
              "         84: 1608,\n",
              "         85: 110,\n",
              "         86: 175,\n",
              "         87: 5818,\n",
              "         88: 53,\n",
              "         89: 357,\n",
              "         90: 148,\n",
              "         91: 101,\n",
              "         92: 375,\n",
              "         93: 25,\n",
              "         94: 12,\n",
              "         95: 39,\n",
              "         96: 33,\n",
              "         97: 76,\n",
              "         98: 120,\n",
              "         99: 8,\n",
              "         100: 521,\n",
              "         101: 46,\n",
              "         102: 52,\n",
              "         103: 3,\n",
              "         104: 1034,\n",
              "         105: 274,\n",
              "         106: 10,\n",
              "         107: 12,\n",
              "         108: 115,\n",
              "         109: 3,\n",
              "         110: 336,\n",
              "         111: 267,\n",
              "         112: 13,\n",
              "         113: 6,\n",
              "         114: 12,\n",
              "         115: 6,\n",
              "         116: 13,\n",
              "         117: 5,\n",
              "         118: 5,\n",
              "         120: 10,\n",
              "         121: 2296,\n",
              "         122: 10,\n",
              "         123: 6,\n",
              "         124: 2297,\n",
              "         125: 1,\n",
              "         126: 13,\n",
              "         127: 10,\n",
              "         128: 52,\n",
              "         129: 1,\n",
              "         130: 1,\n",
              "         131: 5,\n",
              "         132: 91,\n",
              "         133: 4,\n",
              "         135: 1,\n",
              "         136: 11,\n",
              "         137: 48,\n",
              "         138: 47,\n",
              "         139: 28,\n",
              "         140: 1,\n",
              "         141: 1,\n",
              "         142: 92,\n",
              "         143: 4,\n",
              "         145: 10,\n",
              "         146: 2,\n",
              "         147: 4,\n",
              "         148: 25,\n",
              "         149: 2,\n",
              "         151: 19,\n",
              "         152: 2,\n",
              "         153: 7,\n",
              "         154: 1,\n",
              "         156: 2299,\n",
              "         157: 1,\n",
              "         161: 1,\n",
              "         162: 3,\n",
              "         163: 1,\n",
              "         164: 2,\n",
              "         165: 1,\n",
              "         166: 1,\n",
              "         167: 49,\n",
              "         168: 4,\n",
              "         169: 3,\n",
              "         170: 4,\n",
              "         173: 1,\n",
              "         174: 1,\n",
              "         176: 6,\n",
              "         179: 56,\n",
              "         180: 1,\n",
              "         181: 1,\n",
              "         183: 158,\n",
              "         184: 2,\n",
              "         188: 1,\n",
              "         189: 4,\n",
              "         190: 30,\n",
              "         191: 1,\n",
              "         192: 1,\n",
              "         193: 2,\n",
              "         194: 506,\n",
              "         195: 76,\n",
              "         198: 1,\n",
              "         200: 4,\n",
              "         206: 136,\n",
              "         207: 270,\n",
              "         208: 1,\n",
              "         214: 1,\n",
              "         216: 1,\n",
              "         218: 1,\n",
              "         219: 1262,\n",
              "         220: 12,\n",
              "         226: 167,\n",
              "         227: 1,\n",
              "         230: 167,\n",
              "         231: 196,\n",
              "         234: 251,\n",
              "         237: 78,\n",
              "         239: 838,\n",
              "         240: 1,\n",
              "         241: 1,\n",
              "         242: 2,\n",
              "         251: 1,\n",
              "         252: 1,\n",
              "         261: 1,\n",
              "         266: 4,\n",
              "         270: 1,\n",
              "         272: 413,\n",
              "         283: 84,\n",
              "         284: 1,\n",
              "         294: 5,\n",
              "         296: 1,\n",
              "         300: 173,\n",
              "         301: 1,\n",
              "         307: 519,\n",
              "         321: 83,\n",
              "         325: 1,\n",
              "         327: 3,\n",
              "         330: 1,\n",
              "         334: 16,\n",
              "         338: 329,\n",
              "         339: 4,\n",
              "         340: 20,\n",
              "         341: 1,\n",
              "         342: 1,\n",
              "         359: 12,\n",
              "         360: 1,\n",
              "         363: 252,\n",
              "         364: 1,\n",
              "         373: 47,\n",
              "         382: 167,\n",
              "         386: 197,\n",
              "         388: 87,\n",
              "         392: 1,\n",
              "         398: 1,\n",
              "         405: 1,\n",
              "         435: 1,\n",
              "         436: 44,\n",
              "         472: 9,\n",
              "         473: 1,\n",
              "         478: 1,\n",
              "         488: 14,\n",
              "         489: 13,\n",
              "         505: 9,\n",
              "         508: 14,\n",
              "         513: 1,\n",
              "         514: 193,\n",
              "         529: 1,\n",
              "         566: 2,\n",
              "         575: 44,\n",
              "         594: 84,\n",
              "         623: 167,\n",
              "         631: 1,\n",
              "         669: 1,\n",
              "         749: 2,\n",
              "         910: 84,\n",
              "         911: 258,\n",
              "         1085: 1,\n",
              "         1242: 1})"
            ]
          },
          "metadata": {},
          "execution_count": 9
        }
      ]
    },
    {
      "cell_type": "code",
      "source": [
        "long_word_pattern = '[^ ]{26,9999}'\n",
        "j = 0\n",
        "for i in range(len(all_sentences)):\n",
        "  if i % 1000000 == 0 :\n",
        "    print(i)\n",
        "  pre = all_sentences[i]\n",
        "  all_sentences[i] = re.sub(long_word_pattern,\"\",all_sentences[i])\n",
        "  if pre != all_sentences[i]:\n",
        "    j+=1"
      ],
      "metadata": {
        "colab": {
          "base_uri": "https://localhost:8080/"
        },
        "id": "p7QVJnLu-85H",
        "outputId": "e3e1657a-5d1e-4a29-d9ea-0fe87009364c"
      },
      "execution_count": 11,
      "outputs": [
        {
          "output_type": "stream",
          "name": "stdout",
          "text": [
            "0\n",
            "1000000\n",
            "2000000\n",
            "3000000\n",
            "4000000\n",
            "5000000\n",
            "6000000\n",
            "7000000\n",
            "8000000\n",
            "9000000\n",
            "10000000\n",
            "11000000\n"
          ]
        }
      ]
    },
    {
      "cell_type": "code",
      "source": [
        "j,len(all_sentences)"
      ],
      "metadata": {
        "colab": {
          "base_uri": "https://localhost:8080/"
        },
        "id": "9d85xC-wERSZ",
        "outputId": "32decd14-7537-4a22-a664-182b4c025191"
      },
      "execution_count": 12,
      "outputs": [
        {
          "output_type": "execute_result",
          "data": {
            "text/plain": [
              "(41100, 11357545)"
            ]
          },
          "metadata": {},
          "execution_count": 12
        }
      ]
    },
    {
      "cell_type": "code",
      "source": [
        "word_length = list(map(lambda x: [len(y) for y in x.split()],all_sentences))"
      ],
      "metadata": {
        "id": "48yKGj-FCWwo"
      },
      "execution_count": 13,
      "outputs": []
    },
    {
      "cell_type": "code",
      "source": [
        "flat_list = list(itertools.chain(*word_length))"
      ],
      "metadata": {
        "id": "hQVflLTd9sXA"
      },
      "execution_count": 14,
      "outputs": []
    },
    {
      "cell_type": "code",
      "source": [
        "len(flat_list)"
      ],
      "metadata": {
        "colab": {
          "base_uri": "https://localhost:8080/"
        },
        "id": "Y1oc0NcIF_TS",
        "outputId": "7718b346-363b-4bcc-ac2e-6ba734ea6a34"
      },
      "execution_count": 15,
      "outputs": [
        {
          "output_type": "execute_result",
          "data": {
            "text/plain": [
              "161484353"
            ]
          },
          "metadata": {},
          "execution_count": 15
        }
      ]
    },
    {
      "cell_type": "code",
      "source": [
        "Counter(flat_list)"
      ],
      "metadata": {
        "colab": {
          "base_uri": "https://localhost:8080/"
        },
        "id": "ohKUIqdVCffp",
        "outputId": "065aa9ed-8153-4354-b9fa-86664abe9c07"
      },
      "execution_count": 16,
      "outputs": [
        {
          "output_type": "execute_result",
          "data": {
            "text/plain": [
              "Counter({1: 3545082,\n",
              "         2: 15585495,\n",
              "         3: 7748880,\n",
              "         4: 13849053,\n",
              "         5: 14500064,\n",
              "         6: 17305368,\n",
              "         7: 18253932,\n",
              "         8: 17711760,\n",
              "         9: 15370712,\n",
              "         10: 12616823,\n",
              "         11: 9809304,\n",
              "         12: 6701230,\n",
              "         13: 3540695,\n",
              "         14: 2065788,\n",
              "         15: 1355441,\n",
              "         16: 653189,\n",
              "         17: 334616,\n",
              "         18: 167514,\n",
              "         19: 122840,\n",
              "         20: 74155,\n",
              "         21: 82537,\n",
              "         22: 41283,\n",
              "         23: 18116,\n",
              "         24: 14336,\n",
              "         25: 16140})"
            ]
          },
          "metadata": {},
          "execution_count": 16
        }
      ]
    },
    {
      "cell_type": "code",
      "source": [
        "df = pd.DataFrame({\"Sentence\": all_sentences})\n",
        "df.to_csv(\"/content/drive/MyDrive/GeorgianLanguageModel/more_cleaned_sentences.csv\", index=False)"
      ],
      "metadata": {
        "id": "7KLQHutHGfQ9"
      },
      "execution_count": 17,
      "outputs": []
    },
    {
      "cell_type": "code",
      "source": [
        "all_sentences_df = pd.read_csv(\"/content/drive/MyDrive/GeorgianLanguageModel/more_cleaned_sentences.csv\")\n",
        "all_sentences_df.head()"
      ],
      "metadata": {
        "colab": {
          "base_uri": "https://localhost:8080/",
          "height": 206
        },
        "id": "6Jp2fSVbGf0E",
        "outputId": "c4d2b882-49b0-4c09-a211-35c4e766ccb6"
      },
      "execution_count": 2,
      "outputs": [
        {
          "output_type": "execute_result",
          "data": {
            "text/plain": [
              "                                            Sentence\n",
              "0  წამიყვანე შენთან ერთად ქართულად რუსული სერიალე...\n",
              "1  წამიყვანე შენთან ერთად ქართულად რუსული სერიალე...\n",
              "2  მოკლე აღწერა როგორც ჩანს 3 სკოლის მეგობარ როგო...\n",
              "3  ყველა მათგანს სურს ბედნიერება ცხოვრებაში რომელ...\n",
              "4  მაგრამ დრო გადის და თითოეული მათგანი სხვადასხვ..."
            ],
            "text/html": [
              "\n",
              "  <div id=\"df-0357616b-8702-4489-b998-9447de7d778c\">\n",
              "    <div class=\"colab-df-container\">\n",
              "      <div>\n",
              "<style scoped>\n",
              "    .dataframe tbody tr th:only-of-type {\n",
              "        vertical-align: middle;\n",
              "    }\n",
              "\n",
              "    .dataframe tbody tr th {\n",
              "        vertical-align: top;\n",
              "    }\n",
              "\n",
              "    .dataframe thead th {\n",
              "        text-align: right;\n",
              "    }\n",
              "</style>\n",
              "<table border=\"1\" class=\"dataframe\">\n",
              "  <thead>\n",
              "    <tr style=\"text-align: right;\">\n",
              "      <th></th>\n",
              "      <th>Sentence</th>\n",
              "    </tr>\n",
              "  </thead>\n",
              "  <tbody>\n",
              "    <tr>\n",
              "      <th>0</th>\n",
              "      <td>წამიყვანე შენთან ერთად ქართულად რუსული სერიალე...</td>\n",
              "    </tr>\n",
              "    <tr>\n",
              "      <th>1</th>\n",
              "      <td>წამიყვანე შენთან ერთად ქართულად რუსული სერიალე...</td>\n",
              "    </tr>\n",
              "    <tr>\n",
              "      <th>2</th>\n",
              "      <td>მოკლე აღწერა როგორც ჩანს 3 სკოლის მეგობარ როგო...</td>\n",
              "    </tr>\n",
              "    <tr>\n",
              "      <th>3</th>\n",
              "      <td>ყველა მათგანს სურს ბედნიერება ცხოვრებაში რომელ...</td>\n",
              "    </tr>\n",
              "    <tr>\n",
              "      <th>4</th>\n",
              "      <td>მაგრამ დრო გადის და თითოეული მათგანი სხვადასხვ...</td>\n",
              "    </tr>\n",
              "  </tbody>\n",
              "</table>\n",
              "</div>\n",
              "      <button class=\"colab-df-convert\" onclick=\"convertToInteractive('df-0357616b-8702-4489-b998-9447de7d778c')\"\n",
              "              title=\"Convert this dataframe to an interactive table.\"\n",
              "              style=\"display:none;\">\n",
              "        \n",
              "  <svg xmlns=\"http://www.w3.org/2000/svg\" height=\"24px\"viewBox=\"0 0 24 24\"\n",
              "       width=\"24px\">\n",
              "    <path d=\"M0 0h24v24H0V0z\" fill=\"none\"/>\n",
              "    <path d=\"M18.56 5.44l.94 2.06.94-2.06 2.06-.94-2.06-.94-.94-2.06-.94 2.06-2.06.94zm-11 1L8.5 8.5l.94-2.06 2.06-.94-2.06-.94L8.5 2.5l-.94 2.06-2.06.94zm10 10l.94 2.06.94-2.06 2.06-.94-2.06-.94-.94-2.06-.94 2.06-2.06.94z\"/><path d=\"M17.41 7.96l-1.37-1.37c-.4-.4-.92-.59-1.43-.59-.52 0-1.04.2-1.43.59L10.3 9.45l-7.72 7.72c-.78.78-.78 2.05 0 2.83L4 21.41c.39.39.9.59 1.41.59.51 0 1.02-.2 1.41-.59l7.78-7.78 2.81-2.81c.8-.78.8-2.07 0-2.86zM5.41 20L4 18.59l7.72-7.72 1.47 1.35L5.41 20z\"/>\n",
              "  </svg>\n",
              "      </button>\n",
              "      \n",
              "  <style>\n",
              "    .colab-df-container {\n",
              "      display:flex;\n",
              "      flex-wrap:wrap;\n",
              "      gap: 12px;\n",
              "    }\n",
              "\n",
              "    .colab-df-convert {\n",
              "      background-color: #E8F0FE;\n",
              "      border: none;\n",
              "      border-radius: 50%;\n",
              "      cursor: pointer;\n",
              "      display: none;\n",
              "      fill: #1967D2;\n",
              "      height: 32px;\n",
              "      padding: 0 0 0 0;\n",
              "      width: 32px;\n",
              "    }\n",
              "\n",
              "    .colab-df-convert:hover {\n",
              "      background-color: #E2EBFA;\n",
              "      box-shadow: 0px 1px 2px rgba(60, 64, 67, 0.3), 0px 1px 3px 1px rgba(60, 64, 67, 0.15);\n",
              "      fill: #174EA6;\n",
              "    }\n",
              "\n",
              "    [theme=dark] .colab-df-convert {\n",
              "      background-color: #3B4455;\n",
              "      fill: #D2E3FC;\n",
              "    }\n",
              "\n",
              "    [theme=dark] .colab-df-convert:hover {\n",
              "      background-color: #434B5C;\n",
              "      box-shadow: 0px 1px 3px 1px rgba(0, 0, 0, 0.15);\n",
              "      filter: drop-shadow(0px 1px 2px rgba(0, 0, 0, 0.3));\n",
              "      fill: #FFFFFF;\n",
              "    }\n",
              "  </style>\n",
              "\n",
              "      <script>\n",
              "        const buttonEl =\n",
              "          document.querySelector('#df-0357616b-8702-4489-b998-9447de7d778c button.colab-df-convert');\n",
              "        buttonEl.style.display =\n",
              "          google.colab.kernel.accessAllowed ? 'block' : 'none';\n",
              "\n",
              "        async function convertToInteractive(key) {\n",
              "          const element = document.querySelector('#df-0357616b-8702-4489-b998-9447de7d778c');\n",
              "          const dataTable =\n",
              "            await google.colab.kernel.invokeFunction('convertToInteractive',\n",
              "                                                     [key], {});\n",
              "          if (!dataTable) return;\n",
              "\n",
              "          const docLinkHtml = 'Like what you see? Visit the ' +\n",
              "            '<a target=\"_blank\" href=https://colab.research.google.com/notebooks/data_table.ipynb>data table notebook</a>'\n",
              "            + ' to learn more about interactive tables.';\n",
              "          element.innerHTML = '';\n",
              "          dataTable['output_type'] = 'display_data';\n",
              "          await google.colab.output.renderOutput(dataTable, element);\n",
              "          const docLink = document.createElement('div');\n",
              "          docLink.innerHTML = docLinkHtml;\n",
              "          element.appendChild(docLink);\n",
              "        }\n",
              "      </script>\n",
              "    </div>\n",
              "  </div>\n",
              "  "
            ]
          },
          "metadata": {},
          "execution_count": 2
        }
      ]
    },
    {
      "cell_type": "code",
      "source": [
        "# all_sentences = all_sentences_df[\"Sentence\"].values\n",
        "# all_sentences = list(all_sentences)\n",
        "# all_sentences = list(filter(lambda x: type(x) == str,all_sentences))\n",
        "def filter_func(x):\n",
        "  l = len(x.split())\n",
        "  return l >=5 and l <=500\n",
        "print(len(all_sentences))\n",
        "all_sentences = list(filter(filter_func,all_sentences))\n",
        "print(len(all_sentences))"
      ],
      "metadata": {
        "id": "n4-UMA9W7Xzq",
        "colab": {
          "base_uri": "https://localhost:8080/"
        },
        "outputId": "e143e6b9-5d58-4b21-b29a-cdac697116d9"
      },
      "execution_count": 18,
      "outputs": [
        {
          "output_type": "stream",
          "name": "stdout",
          "text": [
            "11357545\n",
            "9961319\n"
          ]
        }
      ]
    },
    {
      "cell_type": "code",
      "source": [
        "df = pd.DataFrame({\"Sentence\": all_sentences})\n",
        "df.to_csv(\"/content/drive/MyDrive/GeorgianLanguageModel/filtered_sentences.csv\", index=False)"
      ],
      "metadata": {
        "id": "90yMpwJEbtb7"
      },
      "execution_count": 19,
      "outputs": []
    },
    {
      "cell_type": "code",
      "source": [
        "words = {}\n",
        "for i,sent in enumerate(new_sentences):\n",
        "  if i % 1000000==0:\n",
        "    print(i)\n",
        "  for word in sent.split():\n",
        "    if word in words.keys():\n",
        "      words[word] +=1\n",
        "    else:\n",
        "      words[word] = 1"
      ],
      "metadata": {
        "colab": {
          "base_uri": "https://localhost:8080/"
        },
        "id": "RoHye6BldRAF",
        "outputId": "87b35cf7-aa54-44e2-ca1e-d4a6a71b675c"
      },
      "execution_count": 7,
      "outputs": [
        {
          "output_type": "stream",
          "name": "stdout",
          "text": [
            "0\n",
            "1000000\n",
            "2000000\n",
            "3000000\n",
            "4000000\n",
            "5000000\n",
            "6000000\n",
            "7000000\n",
            "8000000\n",
            "9000000\n",
            "10000000\n",
            "11000000\n"
          ]
        }
      ]
    },
    {
      "cell_type": "code",
      "source": [
        "len(words)"
      ],
      "metadata": {
        "colab": {
          "base_uri": "https://localhost:8080/"
        },
        "id": "-juwATfJdqmg",
        "outputId": "6dd7a4ae-626d-4f7d-ea45-3a4496de7313"
      },
      "execution_count": 8,
      "outputs": [
        {
          "output_type": "execute_result",
          "data": {
            "text/plain": [
              "1976622"
            ]
          },
          "metadata": {},
          "execution_count": 8
        }
      ]
    },
    {
      "cell_type": "code",
      "source": [
        "words= list(sorted(words.items(), key=lambda item: item[1])) "
      ],
      "metadata": {
        "id": "54Fx3OiJeObi"
      },
      "execution_count": 9,
      "outputs": []
    },
    {
      "cell_type": "code",
      "source": [
        "words[-25:]"
      ],
      "metadata": {
        "colab": {
          "base_uri": "https://localhost:8080/"
        },
        "id": "T9Fd4ttieeUD",
        "outputId": "db52d54a-5347-43c6-b69a-74b3cbbac904"
      },
      "execution_count": 10,
      "outputs": [
        {
          "output_type": "execute_result",
          "data": {
            "text/plain": [
              "[('სხვა', 311051),\n",
              " ('ერთი', 313265),\n",
              " ('რაც', 314551),\n",
              " ('მიერ', 315559),\n",
              " ('როგორც', 336679),\n",
              " ('2', 343380),\n",
              " ('მისი', 352678),\n",
              " ('მაგრამ', 367394),\n",
              " ('1', 376658),\n",
              " ('იყო', 423172),\n",
              " ('კი', 436576),\n",
              " ('ან', 490249),\n",
              " ('წლის', 498360),\n",
              " ('ქ', 506245),\n",
              " ('რომელიც', 514199),\n",
              " ('უნდა', 516142),\n",
              " ('არის', 562010),\n",
              " ('თუ', 600079),\n",
              " ('ის', 639484),\n",
              " ('ეს', 677574),\n",
              " ('საქართველოს', 689849),\n",
              " ('ამ', 713347),\n",
              " ('არ', 1306852),\n",
              " ('რომ', 1446699),\n",
              " ('და', 6160351)]"
            ]
          },
          "metadata": {},
          "execution_count": 10
        }
      ]
    },
    {
      "cell_type": "code",
      "source": [
        "chars = {}\n",
        "for word in words:\n",
        "  word_ = word[0]\n",
        "  for ch in word_:\n",
        "    if ch in chars.keys():\n",
        "      chars[ch]+=1\n",
        "    else:\n",
        "      chars[ch] = 1"
      ],
      "metadata": {
        "id": "7dRoEdrGgswQ"
      },
      "execution_count": 11,
      "outputs": []
    },
    {
      "cell_type": "code",
      "source": [
        "sorted_chars= list(sorted(chars.items(), key=lambda item: item[1])) "
      ],
      "metadata": {
        "id": "TeInrOB7hiBs"
      },
      "execution_count": 12,
      "outputs": []
    },
    {
      "cell_type": "code",
      "source": [
        "sorted_chars"
      ],
      "metadata": {
        "colab": {
          "base_uri": "https://localhost:8080/"
        },
        "id": "ipRfvhEehnbM",
        "outputId": "2ed77d32-8cb0-4679-baae-ebfbf293051c"
      },
      "execution_count": 13,
      "outputs": [
        {
          "output_type": "execute_result",
          "data": {
            "text/plain": [
              "[('6', 16763),\n",
              " ('8', 16781),\n",
              " ('7', 19772),\n",
              " ('ჟ', 20300),\n",
              " ('4', 20993),\n",
              " ('3', 21376),\n",
              " ('9', 23029),\n",
              " ('2', 26129),\n",
              " ('5', 27546),\n",
              " ('1', 31894),\n",
              " ('0', 34568),\n",
              " ('ჭ', 36401),\n",
              " ('ჰ', 47095),\n",
              " ('ჯ', 54234),\n",
              " ('ძ', 72320),\n",
              " ('ღ', 80611),\n",
              " ('ჩ', 97490),\n",
              " ('ყ', 102380),\n",
              " ('წ', 132823),\n",
              " ('ქ', 158055),\n",
              " ('ფ', 163832),\n",
              " ('პ', 177703),\n",
              " ('ზ', 196429),\n",
              " ('ხ', 226896),\n",
              " ('ც', 265065),\n",
              " ('შ', 273892),\n",
              " ('კ', 363821),\n",
              " ('ტ', 442098),\n",
              " ('გ', 487274),\n",
              " ('თ', 511396),\n",
              " ('უ', 586003),\n",
              " ('დ', 693272),\n",
              " ('ვ', 694653),\n",
              " ('ლ', 821854),\n",
              " ('ბ', 846055),\n",
              " ('მ', 875075),\n",
              " ('ნ', 984662),\n",
              " ('ო', 1041996),\n",
              " ('რ', 1056997),\n",
              " ('ს', 1222632),\n",
              " ('ე', 1803297),\n",
              " ('ი', 2228885),\n",
              " ('ა', 2775397)]"
            ]
          },
          "metadata": {},
          "execution_count": 13
        }
      ]
    }
  ]
}