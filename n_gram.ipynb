{
  "nbformat": 4,
  "nbformat_minor": 0,
  "metadata": {
    "colab": {
      "name": "n_gram.ipynb",
      "provenance": [],
      "collapsed_sections": []
    },
    "kernelspec": {
      "name": "python3",
      "display_name": "Python 3"
    },
    "language_info": {
      "name": "python"
    }
  },
  "cells": [
    {
      "cell_type": "code",
      "execution_count": 2,
      "metadata": {
        "id": "rRgLbnCQolVk"
      },
      "outputs": [],
      "source": [
        "# !pip install -U pip\n",
        "# !pip install -U dill\n",
        "# !pip install -U nltk"
      ]
    },
    {
      "cell_type": "code",
      "source": [
        "from nltk.util import pad_sequence\n",
        "from nltk.util import bigrams\n",
        "from nltk.util import ngrams\n",
        "from nltk.util import everygrams\n",
        "from nltk.lm.preprocessing import pad_both_ends\n",
        "from nltk.lm.preprocessing import flatten\n",
        "import pandas as pd"
      ],
      "metadata": {
        "id": "WQM_Rd0WoqVU"
      },
      "execution_count": 1,
      "outputs": []
    },
    {
      "cell_type": "code",
      "source": [
        "import nltk\n",
        "# nltk.download('punkt')\n",
        "from nltk import word_tokenize, sent_tokenize "
      ],
      "metadata": {
        "id": "uGR_7lUM3OOD"
      },
      "execution_count": 2,
      "outputs": []
    },
    {
      "cell_type": "code",
      "source": [
        "from google.colab import drive\n",
        "drive.mount('/content/drive')"
      ],
      "metadata": {
        "id": "EhO7JNEo3Jud",
        "colab": {
          "base_uri": "https://localhost:8080/"
        },
        "outputId": "467936da-a435-450a-9a3b-731bdd23558b"
      },
      "execution_count": 3,
      "outputs": [
        {
          "output_type": "stream",
          "name": "stdout",
          "text": [
            "Drive already mounted at /content/drive; to attempt to forcibly remount, call drive.mount(\"/content/drive\", force_remount=True).\n"
          ]
        }
      ]
    },
    {
      "cell_type": "code",
      "source": [
        "all_sentences_df = pd.read_csv(\"/content/drive/MyDrive/GeorgianLanguageModel/filtered_sentences.csv\")\n",
        "all_sentences_df.head()\n",
        "all_sentences = all_sentences_df[\"Sentence\"].values\n",
        "all_sentences = list(all_sentences)\n",
        "all_sentences = list(filter(lambda x: type(x) == str,all_sentences))"
      ],
      "metadata": {
        "id": "ZHKo0scc4ttb"
      },
      "execution_count": 4,
      "outputs": []
    },
    {
      "cell_type": "code",
      "source": [
        "all_sentences[0]"
      ],
      "metadata": {
        "colab": {
          "base_uri": "https://localhost:8080/",
          "height": 36
        },
        "id": "TNbZQPaM47gZ",
        "outputId": "0932effe-819d-47d1-c691-31eb6c6dcd61"
      },
      "execution_count": 5,
      "outputs": [
        {
          "output_type": "execute_result",
          "data": {
            "text/plain": [
              "'წამიყვანე შენთან ერთად ქართულად      რუსული სერიალები ქართულად რუსების პორნო ონლაინში   რუსული სერიალები ფილმები ქართულად ონლაინში  '"
            ],
            "application/vnd.google.colaboratory.intrinsic+json": {
              "type": "string"
            }
          },
          "metadata": {},
          "execution_count": 5
        }
      ]
    },
    {
      "cell_type": "code",
      "source": [
        "tokenized_text = list(map(lambda x: x.split(),all_sentences[:300000]))"
      ],
      "metadata": {
        "id": "lI8BfMxc4-p-"
      },
      "execution_count": 6,
      "outputs": []
    },
    {
      "cell_type": "code",
      "source": [
        "tokenized_text[-2:]"
      ],
      "metadata": {
        "colab": {
          "base_uri": "https://localhost:8080/"
        },
        "id": "Gt_PkHl45BH0",
        "outputId": "defbce72-59da-4b6d-c7ef-0b0a1c30e1a6"
      },
      "execution_count": 20,
      "outputs": [
        {
          "output_type": "execute_result",
          "data": {
            "text/plain": [
              "[['ფასები',\n",
              "  'მოცემულია',\n",
              "  'ერთ',\n",
              "  'პირზე',\n",
              "  'დღეში',\n",
              "  '24',\n",
              "  'თვიანი',\n",
              "  'ხელშეკრულებით',\n",
              "  'და',\n",
              "  'იმ',\n",
              "  'პირობთ',\n",
              "  'რომ',\n",
              "  'გვაქვს',\n",
              "  'თავისუფალი',\n",
              "  'სივრცე'],\n",
              " ['კარგი',\n",
              "  'იერსახე',\n",
              "  'თქვენი',\n",
              "  'ბიზნესისთვის',\n",
              "  'პროფესიონალური',\n",
              "  'მისამართი',\n",
              "  'სატელეფონო',\n",
              "  'ზარებზე',\n",
              "  'პასუხის',\n",
              "  'გაცემა',\n",
              "  'ფოსტის',\n",
              "  'დამუშავება',\n",
              "  'და',\n",
              "  'ოფისის',\n",
              "  'გამოყენების',\n",
              "  'შესაძლებლობა']]"
            ]
          },
          "metadata": {},
          "execution_count": 20
        }
      ]
    },
    {
      "cell_type": "code",
      "source": [
        "from nltk.lm.preprocessing import padded_everygram_pipeline\n",
        "n = 3\n",
        "train_data, padded_sents = padded_everygram_pipeline(n, tokenized_text)"
      ],
      "metadata": {
        "id": "TrQMOH5A5ChP"
      },
      "execution_count": 8,
      "outputs": []
    },
    {
      "cell_type": "code",
      "source": [
        "from nltk.lm import MLE\n",
        "model = MLE(n)"
      ],
      "metadata": {
        "id": "F2R9twGm5To6"
      },
      "execution_count": 9,
      "outputs": []
    },
    {
      "cell_type": "code",
      "source": [
        "model.fit(train_data, padded_sents)"
      ],
      "metadata": {
        "id": "QEI92IoK51sh"
      },
      "execution_count": 10,
      "outputs": []
    },
    {
      "cell_type": "code",
      "source": [
        "len(model.vocab)"
      ],
      "metadata": {
        "colab": {
          "base_uri": "https://localhost:8080/"
        },
        "id": "xTYJ51x055Tb",
        "outputId": "75c2b247-6b00-4560-ae5d-b19dc300abba"
      },
      "execution_count": 11,
      "outputs": [
        {
          "output_type": "execute_result",
          "data": {
            "text/plain": [
              "291574"
            ]
          },
          "metadata": {},
          "execution_count": 11
        }
      ]
    },
    {
      "cell_type": "code",
      "source": [
        "print(model.generate(20, random_seed=1234))"
      ],
      "metadata": {
        "colab": {
          "base_uri": "https://localhost:8080/"
        },
        "id": "yeCG_Lw656EM",
        "outputId": "e5ea9854-c4e6-4edc-d543-7ce005888f08"
      },
      "execution_count": 13,
      "outputs": [
        {
          "output_type": "stream",
          "name": "stdout",
          "text": [
            "['წარსულში', 'ის', 'ცხოველები', 'რომლებსაც', 'გენი', 'არ', 'აქვთ', '</s>', '</s>', '</s>', '</s>', '</s>', '</s>', '</s>', '</s>', '</s>', '</s>', '</s>', '</s>', '</s>']\n"
          ]
        }
      ]
    },
    {
      "cell_type": "code",
      "source": [
        "from nltk.tokenize.treebank import TreebankWordDetokenizer\n",
        "\n",
        "detokenize = TreebankWordDetokenizer().detokenize\n",
        "\n",
        "def generate_sent(model, num_words, random_seed=42,text_seed=[]):\n",
        "    \"\"\"\n",
        "    :param model: An ngram language model from `nltk.lm.model`.\n",
        "    :param num_words: Max no. of words to generate.\n",
        "    :param random_seed: Seed value for random.\n",
        "    \"\"\"\n",
        "    content = []\n",
        "    for token in model.generate(num_words, text_seed=text_seed, random_seed=random_seed):\n",
        "        if token == '<s>':\n",
        "            continue\n",
        "        if token == '</s>':\n",
        "            break\n",
        "        content.append(token)\n",
        "    return detokenize(content)"
      ],
      "metadata": {
        "id": "OwkRZ4un6mX7"
      },
      "execution_count": 14,
      "outputs": []
    },
    {
      "cell_type": "code",
      "source": [
        "generate_sent(model, 28,1234,['ქართველი','ერი','ამას','არ','აიტანს'])"
      ],
      "metadata": {
        "colab": {
          "base_uri": "https://localhost:8080/",
          "height": 36
        },
        "id": "-lXrsOIu64we",
        "outputId": "258b54f8-fdc5-4a91-ac08-02b4e703eae3"
      },
      "execution_count": 19,
      "outputs": [
        {
          "output_type": "execute_result",
          "data": {
            "text/plain": [
              "'რომ სირცხვილი აჭამოს ვინმემ'"
            ],
            "application/vnd.google.colaboratory.intrinsic+json": {
              "type": "string"
            }
          },
          "metadata": {},
          "execution_count": 19
        }
      ]
    },
    {
      "cell_type": "code",
      "source": [
        "import pickle"
      ],
      "metadata": {
        "id": "7IAoz02bVnPw"
      },
      "execution_count": 29,
      "outputs": []
    },
    {
      "cell_type": "code",
      "source": [
        "with open('/content/drive/MyDrive/GeorgianLanguageModel/ngram.pkl',\"wb\") as f:\n",
        "    pickle.dump(model, f)"
      ],
      "metadata": {
        "id": "2h0rUR4LWOFb"
      },
      "execution_count": 27,
      "outputs": []
    },
    {
      "cell_type": "code",
      "source": [
        "with open('/content/drive/MyDrive/GeorgianLanguageModel/ngram.pkl',\"rb\") as f:\n",
        "    mdl = pickle.load(f)"
      ],
      "metadata": {
        "id": "DLoocXugWY9V"
      },
      "execution_count": 28,
      "outputs": []
    },
    {
      "cell_type": "code",
      "source": [
        "generate_sent(mdl, 28,1234,['ქართველი','ერი','ამას','არ','აიტანს'])"
      ],
      "metadata": {
        "colab": {
          "base_uri": "https://localhost:8080/",
          "height": 36
        },
        "id": "icd2pdoBXIbL",
        "outputId": "8ff84552-1212-48e6-d191-d76a9c7cf000"
      },
      "execution_count": 32,
      "outputs": [
        {
          "output_type": "execute_result",
          "data": {
            "text/plain": [
              "'რომ სირცხვილი აჭამოს ვინმემ'"
            ],
            "application/vnd.google.colaboratory.intrinsic+json": {
              "type": "string"
            }
          },
          "metadata": {},
          "execution_count": 32
        }
      ]
    }
  ]
}