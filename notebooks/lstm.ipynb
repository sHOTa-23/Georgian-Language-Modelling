{
 "cells": [
  {
   "cell_type": "code",
   "execution_count": 1,
   "id": "5cff2335-96ed-402d-8d2d-2ae779c20078",
   "metadata": {},
   "outputs": [],
   "source": [
    "from gensim.models import Word2Vec\n",
    "import pandas as pd\n",
    "import itertools"
   ]
  },
  {
   "cell_type": "code",
   "execution_count": 2,
   "id": "1c64c25b-377d-4f2f-9766-5444207bc188",
   "metadata": {},
   "outputs": [],
   "source": [
    "all_sentences_df = pd.read_csv(\"filtered_sentences.csv\")\n",
    "all_sentences_df.head()\n",
    "all_sentences = all_sentences_df[\"Sentence\"].values"
   ]
  },
  {
   "cell_type": "code",
   "execution_count": 3,
   "id": "cab3c704-2f0d-4058-b804-6e8a66c96478",
   "metadata": {},
   "outputs": [],
   "source": [
    "sentences = list(map(lambda x: x.split(),all_sentences[:100_000]))"
   ]
  },
  {
   "cell_type": "code",
   "execution_count": 4,
   "id": "52d7a8dd-d465-40af-a8ed-f052a291c785",
   "metadata": {},
   "outputs": [],
   "source": [
    "words = list(itertools.chain(*sentences))"
   ]
  },
  {
   "cell_type": "code",
   "execution_count": 5,
   "id": "b79a01af-50f6-45af-beb0-365b6aab3e34",
   "metadata": {},
   "outputs": [],
   "source": [
    "LENGTH_WORD = 6\n",
    "EMB_SIZE = 100"
   ]
  },
  {
   "cell_type": "code",
   "execution_count": 57,
   "id": "69111e4b-e14f-49dc-b496-d17e1df07e73",
   "metadata": {},
   "outputs": [],
   "source": [
    "from tensorflow.keras.layers import LSTM,Bidirectional\n",
    "from tensorflow.keras.layers import Embedding\n",
    "from tensorflow.keras.models import Model, Sequential\n",
    "from tensorflow.keras.layers import Dense, Activation\n",
    "from tensorflow.keras.layers import Dropout\n",
    "import numpy as np"
   ]
  },
  {
   "cell_type": "code",
   "execution_count": 7,
   "id": "f221406f-6366-42fa-8f94-cd9b7c140c51",
   "metadata": {},
   "outputs": [],
   "source": [
    " mdl = Word2Vec.load('whole_data.model')"
   ]
  },
  {
   "cell_type": "code",
   "execution_count": 8,
   "id": "8d08f63c-e894-4064-b2bc-ed86d84b34ae",
   "metadata": {},
   "outputs": [
    {
     "name": "stdout",
     "output_type": "stream",
     "text": [
      "Result embedding shape: (535967, 100)\n",
      "Checking similar words:\n"
     ]
    }
   ],
   "source": [
    "pretrained_weights = mdl.wv.vectors\n",
    "vocab_size, emdedding_size = pretrained_weights.shape\n",
    "print('Result embedding shape:', pretrained_weights.shape)\n",
    "print('Checking similar words:')\n",
    "\n",
    "def word2idx(word):\n",
    "    return mdl.wv.get_index(word)\n",
    "def idx2word(idx):\n",
    "    return mdl.wv.index_to_key[idx]"
   ]
  },
  {
   "cell_type": "code",
   "execution_count": 9,
   "id": "476f6fa6-c9f0-4937-8bbb-6eef3538ddd7",
   "metadata": {},
   "outputs": [
    {
     "data": {
      "text/plain": [
       "1529429"
      ]
     },
     "execution_count": 9,
     "metadata": {},
     "output_type": "execute_result"
    }
   ],
   "source": [
    "len(words)"
   ]
  },
  {
   "cell_type": "code",
   "execution_count": 142,
   "id": "582b78e3-1e05-4464-81d7-b70dbbf0f8ba",
   "metadata": {},
   "outputs": [
    {
     "name": "stdout",
     "output_type": "stream",
     "text": [
      "0\n",
      "1000000\n"
     ]
    }
   ],
   "source": [
    "train_x = np.zeros([len(words), 5], dtype=np.int32)\n",
    "train_y = np.zeros([len(words)], dtype=np.int32)\n",
    "for j in range(len(words) - 5):\n",
    "    if j % 1_000_000 ==0:\n",
    "        print(j)\n",
    "    for i in range(j,j+ 5):\n",
    "        try:\n",
    "            train_x[j, i-j] = word2idx(words[i])\n",
    "        except:\n",
    "            pass\n",
    "    try:\n",
    "        train_y[j] = word2idx(words[j + LENGTH_WORD])\n",
    "    except:\n",
    "        pass"
   ]
  },
  {
   "cell_type": "code",
   "execution_count": null,
   "id": "9a67ec5c-faca-42ad-bcb5-88deb4091b4e",
   "metadata": {},
   "outputs": [],
   "source": []
  },
  {
   "cell_type": "code",
   "execution_count": 11,
   "id": "4ac68df7-3b3f-48a0-bda8-20520a1a79fb",
   "metadata": {},
   "outputs": [
    {
     "data": {
      "text/plain": [
       "(1529429, 5)"
      ]
     },
     "execution_count": 11,
     "metadata": {},
     "output_type": "execute_result"
    }
   ],
   "source": [
    "train_x.shape"
   ]
  },
  {
   "cell_type": "code",
   "execution_count": 178,
   "id": "54d310be-8072-4744-95c8-bdb972491192",
   "metadata": {},
   "outputs": [],
   "source": [
    "from keras.callbacks import ModelCheckpoint\n",
    "checkpoint = ModelCheckpoint(filepath='/', \n",
    "                             verbose=1,\n",
    "                             save_freq=\"epoch\",)"
   ]
  },
  {
   "cell_type": "code",
   "execution_count": 12,
   "id": "32eccba8-28f1-42a4-b6b5-e57f16ea204b",
   "metadata": {},
   "outputs": [
    {
     "name": "stderr",
     "output_type": "stream",
     "text": [
      "2022-07-29 13:43:58.072249: E tensorflow/stream_executor/cuda/cuda_driver.cc:271] failed call to cuInit: CUDA_ERROR_NO_DEVICE: no CUDA-capable device is detected\n",
      "2022-07-29 13:43:58.072301: I tensorflow/stream_executor/cuda/cuda_diagnostics.cc:156] kernel driver does not appear to be running on this host (dsvm): /proc/driver/nvidia/version does not exist\n",
      "2022-07-29 13:43:58.072952: I tensorflow/core/platform/cpu_feature_guard.cc:193] This TensorFlow binary is optimized with oneAPI Deep Neural Network Library (oneDNN) to use the following CPU instructions in performance-critical operations:  AVX2 AVX512F AVX512_VNNI FMA\n",
      "To enable them in other operations, rebuild TensorFlow with the appropriate compiler flags.\n"
     ]
    },
    {
     "name": "stdout",
     "output_type": "stream",
     "text": [
      "Model: \"sequential\"\n",
      "_________________________________________________________________\n",
      " Layer (type)                Output Shape              Param #   \n",
      "=================================================================\n",
      " embedding (Embedding)       (None, None, 100)         53596700  \n",
      "                                                                 \n",
      " lstm (LSTM)                 (None, 100)               80400     \n",
      "                                                                 \n",
      " dense (Dense)               (None, 535967)            54132667  \n",
      "                                                                 \n",
      " activation (Activation)     (None, 535967)            0         \n",
      "                                                                 \n",
      "=================================================================\n",
      "Total params: 107,809,767\n",
      "Trainable params: 54,213,067\n",
      "Non-trainable params: 53,596,700\n",
      "_________________________________________________________________\n"
     ]
    }
   ],
   "source": [
    "model = Sequential()\n",
    "model.add(Embedding(input_dim=vocab_size, output_dim=emdedding_size, \n",
    "                    weights=[pretrained_weights],trainable=False))\n",
    "model.add(LSTM(units=emdedding_size))\n",
    "model.add(Dense(units=vocab_size))\n",
    "model.add(Activation('softmax'))\n",
    "model.compile(optimizer='rmsprop', loss='sparse_categorical_crossentropy', metrics=['accuracy'])\n",
    "model.summary()"
   ]
  },
  {
   "cell_type": "code",
   "execution_count": 15,
   "id": "236dfaa8-b924-4eb3-9ecf-93ce00b71748",
   "metadata": {},
   "outputs": [
    {
     "name": "stdout",
     "output_type": "stream",
     "text": [
      "4780/4780 [==============================] - 8645s 2s/step - loss: 9.1965 - accuracy: 0.0741 - val_loss: 9.1150 - val_accuracy: 0.0881\n"
     ]
    }
   ],
   "source": [
    "history = model.fit(train_x, train_y, validation_split=0.2, batch_size=256, epochs=1, shuffle=True,callbacks = [checkpoint]).history"
   ]
  },
  {
   "cell_type": "code",
   "execution_count": 16,
   "id": "7a5aba64-6b12-4a36-9fda-7282cdfb0750",
   "metadata": {},
   "outputs": [
    {
     "name": "stdout",
     "output_type": "stream",
     "text": [
      "Model: \"sequential\"\n",
      "_________________________________________________________________\n",
      " Layer (type)                Output Shape              Param #   \n",
      "=================================================================\n",
      " embedding (Embedding)       (None, None, 100)         53596700  \n",
      "                                                                 \n",
      " lstm (LSTM)                 (None, 100)               80400     \n",
      "                                                                 \n",
      " dense (Dense)               (None, 535967)            54132667  \n",
      "                                                                 \n",
      " activation (Activation)     (None, 535967)            0         \n",
      "                                                                 \n",
      "=================================================================\n",
      "Total params: 107,809,767\n",
      "Trainable params: 54,213,067\n",
      "Non-trainable params: 53,596,700\n",
      "_________________________________________________________________\n"
     ]
    }
   ],
   "source": [
    "model.summary()"
   ]
  },
  {
   "cell_type": "code",
   "execution_count": 17,
   "id": "e177f018-1802-4725-bd81-4eb5bae73534",
   "metadata": {},
   "outputs": [],
   "source": [
    "model.save('model.h5')"
   ]
  },
  {
   "cell_type": "code",
   "execution_count": 176,
   "id": "6031427a-670a-46a9-8127-f401281a6812",
   "metadata": {},
   "outputs": [],
   "source": [
    "def sample(preds, temperature=1.0):\n",
    "    if temperature <= 0:\n",
    "        return np.argmax(preds)\n",
    "    preds = np.asarray(preds).astype('float64')\n",
    "    preds = np.log(preds) / temperature\n",
    "    exp_preds = np.exp(preds)\n",
    "    preds = exp_preds / np.sum(exp_preds)\n",
    "    probas = np.random.multinomial(1, preds, 1)\n",
    "    return np.argmax(probas)\n",
    "\n",
    "def generate_next(text, num_generated=10):\n",
    "    word_idxs = [word2idx(word) for word in text.lower().split()]\n",
    "    for i in range(num_generated):\n",
    "        prediction = model.predict(x=np.array(word_idxs).reshape(-1, 1))\n",
    "        idx = sample(prediction[-1], temperature=0)\n",
    "        word_idxs.append(idx)\n",
    "    return ' '.join(idx2word(idx) for idx in word_idxs)"
   ]
  },
  {
   "cell_type": "code",
   "execution_count": 29,
   "id": "6399cd1c-2091-4f79-a777-a9dde6e35d7a",
   "metadata": {},
   "outputs": [
    {
     "name": "stdout",
     "output_type": "stream",
     "text": [
      "1/1 [==============================] - 0s 24ms/step\n",
      "1/1 [==============================] - 0s 26ms/step\n",
      "1/1 [==============================] - 0s 27ms/step\n",
      "1/1 [==============================] - 0s 28ms/step\n",
      "1/1 [==============================] - 0s 35ms/step\n",
      "1/1 [==============================] - 0s 31ms/step\n",
      "1/1 [==============================] - 0s 32ms/step\n",
      "1/1 [==============================] - 0s 39ms/step\n",
      "1/1 [==============================] - 0s 35ms/step\n",
      "1/1 [==============================] - 0s 37ms/step\n"
     ]
    },
    {
     "data": {
      "text/plain": [
       "'მიხეილ ნაშრომი და და და და და და და და და'"
      ]
     },
     "execution_count": 29,
     "metadata": {},
     "output_type": "execute_result"
    }
   ],
   "source": [
    "generate_next('მიხეილ',10)"
   ]
  },
  {
   "cell_type": "code",
   "execution_count": 177,
   "id": "a35fc53f-dcbc-4c7f-9528-c70f6314b024",
   "metadata": {},
   "outputs": [
    {
     "name": "stdout",
     "output_type": "stream",
     "text": [
      "1/1 [==============================] - 0s 51ms/step\n",
      "1/1 [==============================] - 0s 54ms/step\n",
      "1/1 [==============================] - 0s 58ms/step\n",
      "1/1 [==============================] - 0s 82ms/step\n",
      "1/1 [==============================] - 0s 87ms/step\n",
      "1/1 [==============================] - 0s 55ms/step\n",
      "1/1 [==============================] - 0s 45ms/step\n",
      "1/1 [==============================] - 0s 60ms/step\n",
      "1/1 [==============================] - 0s 31ms/step\n",
      "1/1 [==============================] - 0s 72ms/step\n"
     ]
    },
    {
     "data": {
      "text/plain": [
       "'მიხეილ და და და და და და და და და და'"
      ]
     },
     "execution_count": 177,
     "metadata": {},
     "output_type": "execute_result"
    }
   ],
   "source": [
    "generate_next('მიხეილ',10)"
   ]
  }
 ],
 "metadata": {
  "kernelspec": {
   "display_name": "root",
   "language": "python",
   "name": "conda-root-py"
  },
  "language_info": {
   "codemirror_mode": {
    "name": "ipython",
    "version": 3
   },
   "file_extension": ".py",
   "mimetype": "text/x-python",
   "name": "python",
   "nbconvert_exporter": "python",
   "pygments_lexer": "ipython3",
   "version": "3.9.12"
  }
 },
 "nbformat": 4,
 "nbformat_minor": 5
}
