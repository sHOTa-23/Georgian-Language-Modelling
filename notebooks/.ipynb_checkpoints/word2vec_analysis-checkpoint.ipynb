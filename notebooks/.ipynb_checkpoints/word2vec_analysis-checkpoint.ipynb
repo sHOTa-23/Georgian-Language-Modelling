{
 "cells": [
  {
   "cell_type": "code",
   "execution_count": 1,
   "id": "e4cd0c23-cb81-4cd2-8f1b-a0542cab7a29",
   "metadata": {},
   "outputs": [],
   "source": [
    "from gensim.models import Word2Vec\n",
    "from sklearn.manifold import TSNE\n",
    "import numpy as np\n",
    "from matplotlib import pyplot as plt\n"
   ]
  },
  {
   "cell_type": "code",
   "execution_count": 2,
   "id": "d40e680c-6fee-404d-b4f4-0191c9884d1d",
   "metadata": {},
   "outputs": [],
   "source": [
    "model = Word2Vec.load('whole_data.model')"
   ]
  },
  {
   "cell_type": "code",
   "execution_count": 3,
   "id": "65a362fc-8bb3-4f10-8275-7fad4a95beac",
   "metadata": {},
   "outputs": [],
   "source": [
    "def most_similar(model, word, n_words=5):\n",
    "    return model.wv.most_similar(word)[:n_words]\n",
    "\n",
    "def analogy(model, y1, x1, x2):\n",
    "    result = model.wv.most_similar(positive=[y1, x2], negative=[x1])\n",
    "    return result[0][0]"
   ]
  },
  {
   "cell_type": "code",
   "execution_count": 4,
   "id": "902fca45-2c09-4c02-ac8e-7cac965ec8b5",
   "metadata": {},
   "outputs": [],
   "source": [
    "def display(model, words):\n",
    "    word_vectors = np.array([model.wv.get_vector(w) for w in words])\n",
    "    tsne = TSNE(n_components=2, verbose=1, perplexity=40, n_iter=300)\n",
    "    tsne_2 = tsne.fit_transform(word_vectors)\n",
    "    \n",
    "    plt.figure(figsize=(6,6))\n",
    "    plt.scatter(tsne_2[:,0], tsne_2[:,1], edgecolors='k', c='r')\n",
    "    for word, (x,y) in zip(words, tsne_2):\n",
    "        plt.text(x+2, y+2, word)"
   ]
  },
  {
   "cell_type": "code",
   "execution_count": 5,
   "id": "34cdae03-861e-485a-85ad-f300b444e6d4",
   "metadata": {
    "tags": []
   },
   "outputs": [
    {
     "name": "stdout",
     "output_type": "stream",
     "text": [
      "[t-SNE] Computing 5 nearest neighbors...\n",
      "[t-SNE] Indexed 6 samples in 0.000s...\n",
      "[t-SNE] Computed neighbors for 6 samples in 0.009s...\n",
      "[t-SNE] Computed conditional probabilities for sample 6 / 6\n",
      "[t-SNE] Mean sigma: 1125899906842624.000000\n",
      "[t-SNE] KL divergence after 250 iterations with early exaggeration: 40.938683\n",
      "[t-SNE] KL divergence after 300 iterations: 0.131037\n"
     ]
    },
    {
     "name": "stderr",
     "output_type": "stream",
     "text": [
      "/anaconda/lib/python3.9/site-packages/sklearn/manifold/_t_sne.py:795: FutureWarning: The default initialization in TSNE will change from 'random' to 'pca' in 1.2.\n",
      "  warnings.warn(\n",
      "/anaconda/lib/python3.9/site-packages/sklearn/manifold/_t_sne.py:805: FutureWarning: The default learning rate in TSNE will change from 200.0 to 'auto' in 1.2.\n",
      "  warnings.warn(\n"
     ]
    },
    {
     "data": {
      "image/png": "[encoded data removed]",
      "text/plain": [
       "<Figure size 432x432 with 1 Axes>"
      ]
     },
     "metadata": {
      "needs_background": "light"
     },
     "output_type": "display_data"
    }
   ],
   "source": [
    "display(model,['კაცი','ქალი','ქმარი','ცოლი','ბიჭი','გოგო'])"
   ]
  },
  {
   "cell_type": "code",
   "execution_count": 6,
   "id": "b651833a-691f-4b9c-9874-1cd7264f3869",
   "metadata": {},
   "outputs": [
    {
     "data": {
      "text/plain": [
       "[('რუსეთი', 0.7153475284576416),\n",
       " ('ქვეყანა', 0.7017509341239929),\n",
       " ('ევროპა', 0.6886364817619324),\n",
       " ('საქართველოც', 0.6679713129997253),\n",
       " ('სომხეთი', 0.6543735861778259)]"
      ]
     },
     "execution_count": 6,
     "metadata": {},
     "output_type": "execute_result"
    }
   ],
   "source": [
    "most_similar(model,'საქართველო')"
   ]
  },
  {
   "cell_type": "code",
   "execution_count": 7,
   "id": "aa6c9afd-1e18-4a81-b443-7653dd7752d9",
   "metadata": {},
   "outputs": [
    {
     "data": {
      "text/plain": [
       "'საღამო'"
      ]
     },
     "execution_count": 7,
     "metadata": {},
     "output_type": "execute_result"
    }
   ],
   "source": [
    "analogy(model,'დილა','8','24')"
   ]
  },
  {
   "cell_type": "code",
   "execution_count": 11,
   "id": "f82fd659-404a-4df8-887d-59077bd7f493",
   "metadata": {},
   "outputs": [
    {
     "data": {
      "text/plain": [
       "'ხუთი'"
      ]
     },
     "execution_count": 11,
     "metadata": {},
     "output_type": "execute_result"
    }
   ],
   "source": [
    "analogy(model,'სამი','ორი','ოთხი')"
   ]
  },
  {
   "cell_type": "code",
   "execution_count": 12,
   "id": "115d53e0-a873-4574-adeb-ce9e603024f2",
   "metadata": {},
   "outputs": [
    {
     "data": {
      "text/plain": [
       "'ექვსი'"
      ]
     },
     "execution_count": 12,
     "metadata": {},
     "output_type": "execute_result"
    }
   ],
   "source": [
    "analogy(model,'სამი','ორი','ხუთი')"
   ]
  },
  {
   "cell_type": "code",
   "execution_count": 15,
   "id": "c87a2115-3e9f-4554-96da-7af1423e52b5",
   "metadata": {},
   "outputs": [
    {
     "data": {
      "text/plain": [
       "'ჰოლანდია'"
      ]
     },
     "execution_count": 15,
     "metadata": {},
     "output_type": "execute_result"
    }
   ],
   "source": [
    "analogy(model,'საფრანგეთი','პარიზი','ამსტერდამი')"
   ]
  },
  {
   "cell_type": "code",
   "execution_count": 20,
   "id": "24bc3c5d-b474-4fe2-83ea-fb109c64dad8",
   "metadata": {},
   "outputs": [
    {
     "data": {
      "text/plain": [
       "'ლია'"
      ]
     },
     "execution_count": 20,
     "metadata": {},
     "output_type": "execute_result"
    }
   ],
   "source": [
    "analogy(model,'შოთა','კაცი','ქალი')"
   ]
  },
  {
   "cell_type": "code",
   "execution_count": 21,
   "id": "f982a7ab-6d53-4d72-93f0-79496a0eea40",
   "metadata": {},
   "outputs": [
    {
     "data": {
      "text/plain": [
       "'მაიკო'"
      ]
     },
     "execution_count": 21,
     "metadata": {},
     "output_type": "execute_result"
    }
   ],
   "source": [
    "analogy(model,'ოთარი','კაცი','ქალი')"
   ]
  },
  {
   "cell_type": "code",
   "execution_count": 22,
   "id": "e229f4e4-1e52-48e2-8870-96d00249a1fb",
   "metadata": {},
   "outputs": [
    {
     "data": {
      "text/plain": [
       "'ლიკა'"
      ]
     },
     "execution_count": 22,
     "metadata": {},
     "output_type": "execute_result"
    }
   ],
   "source": [
    "analogy(model,'ოთო','კაცი','ქალი')"
   ]
  }
 ],
 "metadata": {
  "kernelspec": {
   "display_name": "Python 3",
   "language": "python",
   "name": "python3"
  },
  "language_info": {
   "codemirror_mode": {
    "name": "ipython",
    "version": 3
   },
   "file_extension": ".py",
   "mimetype": "text/x-python",
   "name": "python",
   "nbconvert_exporter": "python",
   "pygments_lexer": "ipython3",
   "version": "3.8.8"
  },
  "vscode": {
   "interpreter": {
    "hash": "8244f376ee9b986434839952ed3b114cab921731cb545ad25d93cb1a288db67f"
   }
  }
 },
 "nbformat": 4,
 "nbformat_minor": 5
}
