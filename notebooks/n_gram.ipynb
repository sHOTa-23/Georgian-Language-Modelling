{
  "cells": [
    {
      "cell_type": "code",
      "execution_count": 2,
      "metadata": {
        "id": "rRgLbnCQolVk"
      },
      "outputs": [],
      "source": [
        "# !pip install -U pip\n",
        "# !pip install -U dill\n",
        "# !pip install -U nltk"
      ]
    },
    {
      "cell_type": "code",
      "execution_count": 1,
      "metadata": {
        "id": "WQM_Rd0WoqVU"
      },
      "outputs": [],
      "source": [
        "from nltk.util import pad_sequence\n",
        "from nltk.util import bigrams\n",
        "from nltk.util import ngrams\n",
        "from nltk.util import everygrams\n",
        "from nltk.lm.preprocessing import pad_both_ends\n",
        "from nltk.lm.preprocessing import flatten\n",
        "import pandas as pd"
      ]
    },
    {
      "cell_type": "code",
      "execution_count": 2,
      "metadata": {
        "id": "uGR_7lUM3OOD"
      },
      "outputs": [],
      "source": [
        "import nltk\n",
        "# nltk.download('punkt')\n",
        "from nltk import word_tokenize, sent_tokenize "
      ]
    },
    {
      "cell_type": "code",
      "execution_count": 3,
      "metadata": {
        "colab": {
          "base_uri": "https://localhost:8080/"
        },
        "id": "EhO7JNEo3Jud",
        "outputId": "467936da-a435-450a-9a3b-731bdd23558b"
      },
      "outputs": [
        {
          "name": "stdout",
          "output_type": "stream",
          "text": [
            "Drive already mounted at /content/drive; to attempt to forcibly remount, call drive.mount(\"/content/drive\", force_remount=True).\n"
          ]
        }
      ],
      "source": [
        "from google.colab import drive\n",
        "drive.mount('/content/drive')"
      ]
    },
    {
      "cell_type": "code",
      "execution_count": 4,
      "metadata": {
        "id": "ZHKo0scc4ttb"
      },
      "outputs": [],
      "source": [
        "all_sentences_df = pd.read_csv(\"/content/drive/MyDrive/GeorgianLanguageModel/filtered_sentences.csv\")\n",
        "all_sentences_df.head()\n",
        "all_sentences = all_sentences_df[\"Sentence\"].values\n",
        "all_sentences = list(all_sentences)\n",
        "all_sentences = list(filter(lambda x: type(x) == str,all_sentences))"
      ]
    },
    {
      "cell_type": "code",
      "execution_count": 5,
      "metadata": {
        "colab": {
          "base_uri": "https://localhost:8080/",
          "height": 36
        },
        "id": "TNbZQPaM47gZ",
        "outputId": "0932effe-819d-47d1-c691-31eb6c6dcd61"
      },
      "outputs": [
        {
          "data": {
            "application/vnd.google.colaboratory.intrinsic+json": {
              "type": "string"
            },
            "text/plain": [
              "'წამიყვანე შენთან ერთად ქართულად      რუსული სერიალები ქართულად რუსების პორნო ონლაინში   რუსული სერიალები ფილმები ქართულად ონლაინში  '"
            ]
          },
          "execution_count": 5,
          "metadata": {},
          "output_type": "execute_result"
        }
      ],
      "source": [
        "all_sentences[0]"
      ]
    },
    {
      "cell_type": "code",
      "execution_count": 6,
      "metadata": {
        "id": "lI8BfMxc4-p-"
      },
      "outputs": [],
      "source": [
        "tokenized_text = list(map(lambda x: x.split(),all_sentences[:300000]))"
      ]
    },
    {
      "cell_type": "code",
      "execution_count": 20,
      "metadata": {
        "colab": {
          "base_uri": "https://localhost:8080/"
        },
        "id": "Gt_PkHl45BH0",
        "outputId": "defbce72-59da-4b6d-c7ef-0b0a1c30e1a6"
      },
      "outputs": [
        {
          "data": {
            "text/plain": [
              "[['ფასები',\n",
              "  'მოცემულია',\n",
              "  'ერთ',\n",
              "  'პირზე',\n",
              "  'დღეში',\n",
              "  '24',\n",
              "  'თვიანი',\n",
              "  'ხელშეკრულებით',\n",
              "  'და',\n",
              "  'იმ',\n",
              "  'პირობთ',\n",
              "  'რომ',\n",
              "  'გვაქვს',\n",
              "  'თავისუფალი',\n",
              "  'სივრცე'],\n",
              " ['კარგი',\n",
              "  'იერსახე',\n",
              "  'თქვენი',\n",
              "  'ბიზნესისთვის',\n",
              "  'პროფესიონალური',\n",
              "  'მისამართი',\n",
              "  'სატელეფონო',\n",
              "  'ზარებზე',\n",
              "  'პასუხის',\n",
              "  'გაცემა',\n",
              "  'ფოსტის',\n",
              "  'დამუშავება',\n",
              "  'და',\n",
              "  'ოფისის',\n",
              "  'გამოყენების',\n",
              "  'შესაძლებლობა']]"
            ]
          },
          "execution_count": 20,
          "metadata": {},
          "output_type": "execute_result"
        }
      ],
      "source": [
        "tokenized_text[-2:]"
      ]
    },
    {
      "cell_type": "code",
      "execution_count": 8,
      "metadata": {
        "id": "TrQMOH5A5ChP"
      },
      "outputs": [],
      "source": [
        "from nltk.lm.preprocessing import padded_everygram_pipeline\n",
        "n = 3\n",
        "train_data, padded_sents = padded_everygram_pipeline(n, tokenized_text)"
      ]
    },
    {
      "cell_type": "code",
      "execution_count": 9,
      "metadata": {
        "id": "F2R9twGm5To6"
      },
      "outputs": [],
      "source": [
        "from nltk.lm import MLE\n",
        "model = MLE(n)"
      ]
    },
    {
      "cell_type": "code",
      "execution_count": 10,
      "metadata": {
        "id": "QEI92IoK51sh"
      },
      "outputs": [],
      "source": [
        "model.fit(train_data, padded_sents)"
      ]
    },
    {
      "cell_type": "code",
      "execution_count": 11,
      "metadata": {
        "colab": {
          "base_uri": "https://localhost:8080/"
        },
        "id": "xTYJ51x055Tb",
        "outputId": "75c2b247-6b00-4560-ae5d-b19dc300abba"
      },
      "outputs": [
        {
          "data": {
            "text/plain": [
              "291574"
            ]
          },
          "execution_count": 11,
          "metadata": {},
          "output_type": "execute_result"
        }
      ],
      "source": [
        "len(model.vocab)"
      ]
    },
    {
      "cell_type": "code",
      "execution_count": 13,
      "metadata": {
        "colab": {
          "base_uri": "https://localhost:8080/"
        },
        "id": "yeCG_Lw656EM",
        "outputId": "e5ea9854-c4e6-4edc-d543-7ce005888f08"
      },
      "outputs": [
        {
          "name": "stdout",
          "output_type": "stream",
          "text": [
            "['წარსულში', 'ის', 'ცხოველები', 'რომლებსაც', 'გენი', 'არ', 'აქვთ', '</s>', '</s>', '</s>', '</s>', '</s>', '</s>', '</s>', '</s>', '</s>', '</s>', '</s>', '</s>', '</s>']\n"
          ]
        }
      ],
      "source": [
        "print(model.generate(20, random_seed=1234))"
      ]
    },
    {
      "cell_type": "code",
      "execution_count": 14,
      "metadata": {
        "id": "OwkRZ4un6mX7"
      },
      "outputs": [],
      "source": [
        "from nltk.tokenize.treebank import TreebankWordDetokenizer\n",
        "\n",
        "detokenize = TreebankWordDetokenizer().detokenize\n",
        "\n",
        "def generate_sent(model, num_words, random_seed=42,text_seed=[]):\n",
        "    \"\"\"\n",
        "    :param model: An ngram language model from `nltk.lm.model`.\n",
        "    :param num_words: Max no. of words to generate.\n",
        "    :param random_seed: Seed value for random.\n",
        "    \"\"\"\n",
        "    content = []\n",
        "    for token in model.generate(num_words, text_seed=text_seed, random_seed=random_seed):\n",
        "        if token == '<s>':\n",
        "            continue\n",
        "        if token == '</s>':\n",
        "            break\n",
        "        content.append(token)\n",
        "    return detokenize(content)"
      ]
    },
    {
      "cell_type": "code",
      "execution_count": 19,
      "metadata": {
        "colab": {
          "base_uri": "https://localhost:8080/",
          "height": 36
        },
        "id": "-lXrsOIu64we",
        "outputId": "258b54f8-fdc5-4a91-ac08-02b4e703eae3"
      },
      "outputs": [
        {
          "data": {
            "application/vnd.google.colaboratory.intrinsic+json": {
              "type": "string"
            },
            "text/plain": [
              "'რომ სირცხვილი აჭამოს ვინმემ'"
            ]
          },
          "execution_count": 19,
          "metadata": {},
          "output_type": "execute_result"
        }
      ],
      "source": [
        "generate_sent(model, 28,1234,['ქართველი','ერი','ამას','არ','აიტანს'])"
      ]
    },
    {
      "cell_type": "code",
      "execution_count": 29,
      "metadata": {
        "id": "7IAoz02bVnPw"
      },
      "outputs": [],
      "source": [
        "import pickle"
      ]
    },
    {
      "cell_type": "code",
      "execution_count": 27,
      "metadata": {
        "id": "2h0rUR4LWOFb"
      },
      "outputs": [],
      "source": [
        "with open('/content/drive/MyDrive/GeorgianLanguageModel/ngram.pkl',\"wb\") as f:\n",
        "    pickle.dump(model, f)"
      ]
    },
    {
      "cell_type": "code",
      "execution_count": 28,
      "metadata": {
        "id": "DLoocXugWY9V"
      },
      "outputs": [],
      "source": [
        "with open('/content/drive/MyDrive/GeorgianLanguageModel/ngram.pkl',\"rb\") as f:\n",
        "    mdl = pickle.load(f)"
      ]
    },
    {
      "cell_type": "code",
      "execution_count": 32,
      "metadata": {
        "colab": {
          "base_uri": "https://localhost:8080/",
          "height": 36
        },
        "id": "icd2pdoBXIbL",
        "outputId": "8ff84552-1212-48e6-d191-d76a9c7cf000"
      },
      "outputs": [
        {
          "data": {
            "application/vnd.google.colaboratory.intrinsic+json": {
              "type": "string"
            },
            "text/plain": [
              "'რომ სირცხვილი აჭამოს ვინმემ'"
            ]
          },
          "execution_count": 32,
          "metadata": {},
          "output_type": "execute_result"
        }
      ],
      "source": [
        "generate_sent(mdl, 28,1234,['ქართველი','ერი','ამას','არ','აიტანს'])"
      ]
    }
  ],
  "metadata": {
    "colab": {
      "collapsed_sections": [],
      "name": "n_gram.ipynb",
      "provenance": []
    },
    "kernelspec": {
      "display_name": "Python 3.9.5 64-bit",
      "language": "python",
      "name": "python3"
    },
    "language_info": {
      "name": "python",
      "version": "3.9.5"
    },
    "vscode": {
      "interpreter": {
        "hash": "8244f376ee9b986434839952ed3b114cab921731cb545ad25d93cb1a288db67f"
      }
    }
  },
  "nbformat": 4,
  "nbformat_minor": 0
}
