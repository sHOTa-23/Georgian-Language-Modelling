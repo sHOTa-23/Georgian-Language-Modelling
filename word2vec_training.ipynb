{
  "cells": [
    {
      "cell_type": "code",
      "execution_count": null,
      "metadata": {
        "id": "iW7SZDw4X0D_"
      },
      "outputs": [],
      "source": [
        "# !pip install gensim"
      ]
    },
    {
      "cell_type": "code",
      "execution_count": 2,
      "metadata": {
        "colab": {
          "base_uri": "https://localhost:8080/"
        },
        "id": "yxtRSpIlX51Z",
        "outputId": "224abfcb-6e5b-466f-ccb9-28c03db16d9c"
      },
      "outputs": [
        {
          "output_type": "stream",
          "name": "stdout",
          "text": [
            "Drive already mounted at /content/drive; to attempt to forcibly remount, call drive.mount(\"/content/drive\", force_remount=True).\n"
          ]
        }
      ],
      "source": [
        "import gensim\n",
        "from gensim.models import Word2Vec\n",
        "from google.colab import drive\n",
        "import pandas as pd\n",
        "drive.mount('/content/drive')"
      ]
    },
    {
      "cell_type": "code",
      "execution_count": 3,
      "metadata": {
        "id": "Cp5MdMJxYFxY"
      },
      "outputs": [],
      "source": [
        "all_sentences_df = pd.read_csv(\"/content/drive/MyDrive/GeorgianLanguageModel/filtered_sentences.csv\")\n",
        "all_sentences_df.head()\n",
        "all_sentences = all_sentences_df[\"Sentence\"].values"
      ]
    },
    {
      "cell_type": "code",
      "execution_count": 4,
      "metadata": {
        "id": "wzbECdqR4rgz"
      },
      "outputs": [],
      "source": [
        "sentences = list(map(lambda x: x.split(),all_sentences[-5000000:]))"
      ]
    },
    {
      "cell_type": "code",
      "execution_count": 5,
      "metadata": {
        "id": "AF6TMJLk5K5M"
      },
      "outputs": [],
      "source": [
        "# len(sentences)\n",
        "model = Word2Vec(sentences=sentences, window=5, min_count=5, workers=4)"
      ]
    },
    {
      "cell_type": "code",
      "execution_count": 6,
      "metadata": {
        "id": "B2XZATdS5xqZ"
      },
      "outputs": [],
      "source": [
        "model.save('/content/drive/MyDrive/GeorgianLanguageModel/5m_4w.model')"
      ]
    }
  ],
  "metadata": {
    "colab": {
      "name": "Untitled2.ipynb",
      "provenance": []
    },
    "kernelspec": {
      "display_name": "Python 3",
      "name": "python3"
    },
    "language_info": {
      "name": "python"
    }
  },
  "nbformat": 4,
  "nbformat_minor": 0
}